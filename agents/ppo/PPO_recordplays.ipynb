{
 "cells": [
  {
   "cell_type": "code",
   "execution_count": 21,
   "metadata": {},
   "outputs": [],
   "source": [
    "%load_ext tensorboard"
   ]
  },
  {
   "cell_type": "code",
   "execution_count": 2,
   "metadata": {},
   "outputs": [],
   "source": [
    "#standard packages\n",
    "import gym\n",
    "import numpy as np\n",
    "import cv2\n",
    "import torch as th\n",
    "from torch import nn\n",
    "import os\n",
    "\n",
    "# mario packages\n",
    "import gym_super_mario_bros\n",
    "from gym_super_mario_bros import SuperMarioBrosEnv\n",
    "from nes_py.wrappers import JoypadSpace\n",
    "from gym_super_mario_bros.actions import *\n",
    "\n",
    "# Import Frame Stacker Wrapper and GrayScaling Wrapper\n",
    "from gym.wrappers import GrayScaleObservation\n",
    "\n",
    "# Import Vectorization Wrappers\n",
    "from stable_baselines3.common.vec_env import VecFrameStack, DummyVecEnv\n",
    "\n",
    "# Import algo\n",
    "from stable_baselines3 import A2C, PPO\n",
    "\n",
    "# Import Base Callback for saving models\n",
    "from stable_baselines3.common.callbacks import BaseCallback\n",
    "from stable_baselines3.common.torch_layers import BaseFeaturesExtractor\n",
    "from stable_baselines3.common.vec_env import VecVideoRecorder, SubprocVecEnv, DummyVecEnv"
   ]
  },
  {
   "cell_type": "code",
   "execution_count": 4,
   "metadata": {},
   "outputs": [],
   "source": [
    "tensorboard_logdir = os.path.abspath(\"./mario/cc_model\")\n",
    "reward_log_path = os.path.join(tensorboard_logdir, 'reward_log.csv')"
   ]
  },
  {
   "cell_type": "code",
   "execution_count": 5,
   "metadata": {},
   "outputs": [
    {
     "data": {
      "text/plain": [
       "Reusing TensorBoard on port 6006 (pid 15792), started 19:08:40 ago. (Use '!kill 15792' to kill it.)"
      ]
     },
     "metadata": {},
     "output_type": "display_data"
    },
    {
     "data": {
      "text/html": [
       "\n",
       "      <iframe id=\"tensorboard-frame-bad5fee95a16325f\" width=\"100%\" height=\"800\" frameborder=\"0\">\n",
       "      </iframe>\n",
       "      <script>\n",
       "        (function() {\n",
       "          const frame = document.getElementById(\"tensorboard-frame-bad5fee95a16325f\");\n",
       "          const url = new URL(\"http://localhost\");\n",
       "          const port = 6006;\n",
       "          if (port) {\n",
       "            url.port = port;\n",
       "          }\n",
       "          frame.src = url;\n",
       "        })();\n",
       "      </script>\n",
       "    "
      ],
      "text/plain": [
       "<IPython.core.display.HTML object>"
      ]
     },
     "metadata": {},
     "output_type": "display_data"
    }
   ],
   "source": [
    "%tensorboard --logdir $tensorboard_logdir"
   ]
  },
  {
   "cell_type": "markdown",
   "metadata": {},
   "source": [
    "# Regular Environment"
   ]
  },
  {
   "cell_type": "code",
   "execution_count": 6,
   "metadata": {},
   "outputs": [],
   "source": [
    "tensorboard_logdir = os.path.abspath(\"./mario/reg_model\")\n",
    "reward_log_path = os.path.join(tensorboard_logdir, 'reward_log.csv')"
   ]
  },
  {
   "cell_type": "code",
   "execution_count": 7,
   "metadata": {},
   "outputs": [
    {
     "data": {
      "text/plain": [
       "Reusing TensorBoard on port 6008 (pid 20216), started 19:05:05 ago. (Use '!kill 20216' to kill it.)"
      ]
     },
     "metadata": {},
     "output_type": "display_data"
    },
    {
     "data": {
      "text/html": [
       "\n",
       "      <iframe id=\"tensorboard-frame-7b68ae9ec771e65f\" width=\"100%\" height=\"800\" frameborder=\"0\">\n",
       "      </iframe>\n",
       "      <script>\n",
       "        (function() {\n",
       "          const frame = document.getElementById(\"tensorboard-frame-7b68ae9ec771e65f\");\n",
       "          const url = new URL(\"http://localhost\");\n",
       "          const port = 6008;\n",
       "          if (port) {\n",
       "            url.port = port;\n",
       "          }\n",
       "          frame.src = url;\n",
       "        })();\n",
       "      </script>\n",
       "    "
      ],
      "text/plain": [
       "<IPython.core.display.HTML object>"
      ]
     },
     "metadata": {},
     "output_type": "display_data"
    }
   ],
   "source": [
    "%tensorboard --logdir $tensorboard_logdir --port=6008"
   ]
  },
  {
   "cell_type": "markdown",
   "metadata": {},
   "source": [
    "# Check reward"
   ]
  },
  {
   "cell_type": "code",
   "execution_count": 5,
   "metadata": {},
   "outputs": [],
   "source": [
    "import pandas as pd"
   ]
  },
  {
   "cell_type": "code",
   "execution_count": 17,
   "metadata": {},
   "outputs": [
    {
     "name": "stdout",
     "output_type": "stream",
     "text": [
      "      timesteps     reward  best_reward\n",
      "2328  2328000.0   1857.85        3080.0\n",
      "2120  2120000.0   2141.05        3079.0\n",
      "2370  2370000.0    1960.9        3077.0\n",
      "1418  1418000.0    2113.7        3077.0\n",
      "1749  1749000.0    2303.9        3077.0\n",
      "1375  1375000.0    1837.3        3076.0\n",
      "2255  2255000.0   1991.75        3076.0\n",
      "2091  2091000.0   2333.65        3075.0\n",
      "2289  2289000.0    1766.2        3075.0\n",
      "2480  2480000.0    2027.0        3075.0\n",
      "      timesteps     reward  best_reward\n",
      "2484  2484000.0    1609.5        3063.0\n",
      "2483  2483000.0    2313.6        3065.0\n",
      "2482  2482000.0    2507.5        3062.0\n",
      "2481  2481000.0   2356.75        3069.0\n",
      "2480  2480000.0    2027.0        3075.0\n"
     ]
    }
   ],
   "source": [
    "reward_ccmodel = pd.read_csv(\"mario/cc_model/reward_log.csv\")\n",
    "reward_ccmodel = reward_ccmodel.loc[reward_ccmodel.timesteps!=\"timesteps\", :].reset_index(drop=True)\n",
    "reward_ccmodel[\"timesteps\"] = reward_ccmodel[\"timesteps\"].astype(\"float\")\n",
    "reward_ccmodel[\"best_reward\"] = reward_ccmodel[\"best_reward\"].astype(\"float\")\n",
    "reward_ccmodel = reward_ccmodel.sort_values(by=\"best_reward\", ascending=False)\n",
    "print(reward_ccmodel.head(10))\n",
    "print(reward_ccmodel.sort_values(by=\"timesteps\", ascending=False).head(5))\n",
    "# reward_ccmodel.loc[reward_ccmodel.timesteps==\"timesteps\", :]"
   ]
  },
  {
   "cell_type": "code",
   "execution_count": 15,
   "metadata": {},
   "outputs": [
    {
     "name": "stdout",
     "output_type": "stream",
     "text": [
      "      timesteps   reward  best_reward\n",
      "2272    2273000  2289.75       3068.0\n",
      "2447    2448000  2649.50       3068.0\n",
      "2345    2346000  2287.05       3068.0\n",
      "2346    2347000  2334.40       3068.0\n",
      "2351    2352000  2586.05       3068.0\n",
      "2443    2444000  2557.75       3068.0\n",
      "2352    2353000  2543.20       3068.0\n",
      "2425    2426000  2628.05       3068.0\n",
      "2519    2520000  2150.35       3068.0\n",
      "2424    2425000  2517.30       3068.0\n",
      "      timesteps   reward  best_reward\n",
      "2523    2524000  2163.10       3062.0\n",
      "2522    2523000  2032.20       3062.0\n",
      "2521    2522000  2332.50       3063.0\n",
      "2520    2521000  2584.80       3062.0\n",
      "2519    2520000  2150.35       3068.0\n"
     ]
    }
   ],
   "source": [
    "reward_regmodel = pd.read_csv(\"mario/reg_model/reward_log.csv\").sort_values(by=\"best_reward\", ascending=False)\n",
    "print(reward_regmodel.head(10))\n",
    "print(reward_regmodel.sort_values(by=\"timesteps\", ascending=False).head(5))"
   ]
  },
  {
   "cell_type": "markdown",
   "metadata": {},
   "source": [
    "# Check results"
   ]
  },
  {
   "cell_type": "code",
   "execution_count": 2,
   "metadata": {},
   "outputs": [],
   "source": [
    "#standard packages\n",
    "import gym\n",
    "import numpy as np\n",
    "import cv2\n",
    "import torch as th\n",
    "from torch import nn\n",
    "import os\n",
    "\n",
    "# mario packages\n",
    "import gym_super_mario_bros\n",
    "from gym_super_mario_bros import SuperMarioBrosEnv\n",
    "from nes_py.wrappers import JoypadSpace\n",
    "from gym_super_mario_bros.actions import *\n",
    "from gym.wrappers import RecordVideo\n",
    "\n",
    "# Import Frame Stacker Wrapper and GrayScaling Wrapper\n",
    "from gym.wrappers import GrayScaleObservation\n",
    "\n",
    "# Import Vectorization Wrappers\n",
    "from stable_baselines3.common.vec_env import VecFrameStack, DummyVecEnv\n",
    "\n",
    "# Import algo\n",
    "from stable_baselines3 import A2C, PPO\n",
    "\n",
    "# Import Base Callback for saving models\n",
    "from stable_baselines3.common.callbacks import BaseCallback\n",
    "from stable_baselines3.common.torch_layers import BaseFeaturesExtractor\n",
    "from stable_baselines3.common.vec_env import VecVideoRecorder, SubprocVecEnv, DummyVecEnv\n",
    "\n",
    "class CoinCollectorSuperMarioBrosEnv(SuperMarioBrosEnv):\n",
    "    #score btn 2 time frames can maybe go upto 8000 so we can just divide by 100 (reference https://www.mariowiki.com/Point)\n",
    "    reward_range = (-15, 100)\n",
    "\n",
    "    def __init__(self, rom_mode='vanilla', lost_levels=False, target=None):\n",
    "        super().__init__(rom_mode=rom_mode, lost_levels=lost_levels, target=target)\n",
    "\n",
    "        # variable to keep track of score deltas\n",
    "        self._score_last = 0\n",
    "\n",
    "    @property\n",
    "    def _score_reward(self):\n",
    "        _reward = self._score - self._score_last\n",
    "        self._score_last = self._score\n",
    "        return _reward/100\n",
    "\n",
    "    # This should override the parent function\n",
    "    def _get_reward(self):\n",
    "        return self._x_reward + self._score_reward + self._time_penalty + self._death_penalty\n",
    "\n",
    "'''\n",
    "The code below registers this new environment in gym for us to reference later. Code borrowed from _registration.py of gym_super_mario_bros\n",
    "'''\n",
    "def _register_coin_collector_mario_stage_env(id, **kwargs):\n",
    "    \"\"\"\n",
    "    Register a Super Mario Bros. (1/2) stage environment with OpenAI Gym.\n",
    "\n",
    "    Args:\n",
    "        id (str): id for the env to register\n",
    "        kwargs (dict): keyword arguments for the SuperMarioBrosEnv initializer\n",
    "\n",
    "    Returns:\n",
    "        None\n",
    "\n",
    "    \"\"\"\n",
    "    # register the environment\n",
    "    gym.envs.registration.register(\n",
    "        id=id,\n",
    "        # entry_point='.:CoinCollectorSuperMarioBrosEnv',\n",
    "        entry_point=CoinCollectorSuperMarioBrosEnv,\n",
    "        max_episode_steps=9999999,\n",
    "        reward_threshold=9999999,\n",
    "        kwargs=kwargs,\n",
    "        nondeterministic=True,\n",
    "    )\n",
    "\n",
    "def _register_all_coin_collector_envs():\n",
    "    # a template for making individual stage environments\n",
    "    _ID_TEMPLATE = 'CoinCollectorSuperMarioBrosEnv-{}-{}-v{}'\n",
    "    # A list of ROM modes for each level environment\n",
    "    _ROM_MODES = [\n",
    "        'vanilla',\n",
    "        'downsample',\n",
    "        'pixel',\n",
    "        'rectangle'\n",
    "    ]\n",
    "\n",
    "    # iterate over all the rom modes, worlds (1-8), and stages (1-4)\n",
    "    for version, rom_mode in enumerate(_ROM_MODES):\n",
    "        for world in range(1, 9):\n",
    "            for stage in range(1, 5):\n",
    "                # create the target\n",
    "                target = (world, stage)\n",
    "                # setup the frame-skipping environment\n",
    "                env_id = _ID_TEMPLATE.format(world, stage, version)\n",
    "                print(f\"Registering Coin Collector {env_id} in gym for use later on.\")\n",
    "                _register_coin_collector_mario_stage_env(env_id, rom_mode=rom_mode, target=target)\n",
    "                print(f\"Successfully registered coin collector env {env_id}!\")\n",
    "\n",
    "def create_gym_env_from_level(world, stage, version, use_coin_collector_env):\n",
    "    level_suffix = f\"{world}-{stage}-v{version}\"\n",
    "    if not use_coin_collector_env:\n",
    "        level = f\"SuperMarioBros-{level_suffix}\"\n",
    "        env = gym_super_mario_bros.make(level)\n",
    "    else:\n",
    "        env_set = set(gym.envs.registration.registry.env_specs.copy().keys())\n",
    "        level = f\"CoinCollectorSuperMarioBrosEnv-{level_suffix}\"\n",
    "        if level not in env_set:\n",
    "            # register all these custom environments for the first time\n",
    "            _register_all_coin_collector_envs()\n",
    "\n",
    "        assert level in set(\n",
    "            gym.envs.registration.registry.env_specs.copy().keys()\n",
    "        ), f\"Looks like {level} was not registered correctly!\"\n",
    "        env = gym.make(level)\n",
    "\n",
    "    return env\n",
    "\n",
    "class SkipFrame(gym.Wrapper):\n",
    "    def __init__(self, env, skip):\n",
    "        super().__init__(env)\n",
    "        self._skip = skip\n",
    "\n",
    "    def step(self, action):\n",
    "        total_reward = 0.0\n",
    "        done = False\n",
    "        for i in range(self._skip):\n",
    "            obs, reward, done, info = self.env.step(action)\n",
    "            total_reward += reward\n",
    "            if done:\n",
    "                break\n",
    "        return obs, total_reward, done, info\n",
    "\n",
    "class ResizeEnv(gym.ObservationWrapper):\n",
    "    def __init__(self, env, size):\n",
    "        gym.ObservationWrapper.__init__(self, env)\n",
    "        (oldh, oldw, oldc) = env.observation_space.shape\n",
    "        newshape = (size, size, oldc)\n",
    "        self.observation_space = gym.spaces.Box(low=0, high=255,\n",
    "            shape=newshape, dtype=np.uint8)\n",
    "\n",
    "    def observation(self, frame):\n",
    "        height, width, _ = self.observation_space.shape\n",
    "        frame = cv2.resize(frame, (width, height), interpolation=cv2.INTER_AREA)\n",
    "        if frame.ndim == 2:\n",
    "            frame = frame[:,:,None]\n",
    "        return frame\n",
    "\n",
    "def create_mario_env(world, stage, version, use_coin_collector_env):\n",
    "    env = create_gym_env_from_level(world, stage, version, use_coin_collector_env)\n",
    "    env = JoypadSpace(env, COMPLEX_MOVEMENT)\n",
    "    env = SkipFrame(env, skip=4)\n",
    "    env = GrayScaleObservation(env, keep_dim=True)\n",
    "    env = ResizeEnv(env, size=84)\n",
    "    env = DummyVecEnv([lambda: env])\n",
    "    env = VecFrameStack(env, 4, channels_order='last')\n",
    "    return env\n",
    "\n",
    "class MarioNet(BaseFeaturesExtractor):\n",
    "    def __init__(self, observation_space: gym.spaces.Box, features_dim):\n",
    "        super(MarioNet, self).__init__(observation_space, features_dim)\n",
    "        n_input_channels = observation_space.shape[0]\n",
    "        self.cnn = nn.Sequential(\n",
    "            nn.Conv2d(n_input_channels, 32, kernel_size=3, stride=2, padding=1),\n",
    "            nn.ReLU(),\n",
    "            nn.Conv2d(32, 32, kernel_size=3, stride=2, padding=1),\n",
    "            nn.ReLU(),\n",
    "            nn.Conv2d(32, 32, kernel_size=3, stride=2, padding=1),\n",
    "            nn.ReLU(),\n",
    "            nn.Conv2d(32, 32, kernel_size=3, stride=2, padding=1),\n",
    "            nn.ReLU(),\n",
    "            nn.Flatten(),\n",
    "        )\n",
    "\n",
    "        # Compute shape by doing one forward pass\n",
    "        with th.no_grad():\n",
    "            n_flatten = self.cnn(th.as_tensor(observation_space.sample()[None]).float()).shape[1]\n",
    "\n",
    "        self.linear = nn.Sequential(nn.Linear(n_flatten, features_dim), nn.ReLU())\n",
    "\n",
    "    def forward(self, observations: th.Tensor) -> th.Tensor:\n",
    "        return self.linear(self.cnn(observations))\n"
   ]
  },
  {
   "cell_type": "code",
   "execution_count": 3,
   "metadata": {},
   "outputs": [],
   "source": [
    "def env_setup(world=1, stage=1, version=3, use_coin_collector_env=True):\n",
    "\n",
    "    env = create_mario_env(world=world, stage=stage, version=version, use_coin_collector_env=use_coin_collector_env)\n",
    "    env.reset()\n",
    "    state, reward, done, info = env.step([0])\n",
    "    print('state:', state.shape) #Color scale, height, width, num of stacks\n",
    "\n",
    "    env = create_mario_env(world=world, stage=stage, version=version, use_coin_collector_env=use_coin_collector_env)\n",
    "    return env"
   ]
  },
  {
   "cell_type": "code",
   "execution_count": 4,
   "metadata": {},
   "outputs": [],
   "source": [
    "def record_plays(best_epoch=600000, plays=3, world=1, stage=1, version=3, use_coin_collector_env=True):\n",
    "    if use_coin_collector_env:\n",
    "        model_folder = 'cc_model'\n",
    "    else:\n",
    "        model_folder = 'reg_model'\n",
    "\n",
    "    best_model_path = f'mario/{model_folder}/best_model_{best_epoch}.zip'\n",
    "\n",
    "    env = env_setup(world=world, stage=stage, version=version, use_coin_collector_env=use_coin_collector_env)\n",
    "    model = PPO.load(best_model_path)\n",
    "    record_env = RecordVideo(env, f\"mario_plays/{model_folder}/{best_epoch}\", name_prefix=f\"mario_ppo_{model_folder}_{world}-{stage}-{version}\")\n",
    "\n",
    "    for ep in range(plays):\n",
    "        state = record_env.reset()\n",
    "        done = False\n",
    "        while not done:\n",
    "            action, _ = model.predict(state)\n",
    "            state, reward, done, info = record_env.step(action)\n",
    "            record_env.render()\n",
    "    print(f\"Episode {ep} done\")\n",
    "\n",
    "    return done"
   ]
  },
  {
   "cell_type": "code",
   "execution_count": 5,
   "metadata": {},
   "outputs": [
    {
     "name": "stdout",
     "output_type": "stream",
     "text": [
      "Registering Coin Collector CoinCollectorSuperMarioBrosEnv-1-1-v0 in gym for use later on.\n",
      "Successfully registered coin collector env CoinCollectorSuperMarioBrosEnv-1-1-v0!\n",
      "Registering Coin Collector CoinCollectorSuperMarioBrosEnv-1-2-v0 in gym for use later on.\n",
      "Successfully registered coin collector env CoinCollectorSuperMarioBrosEnv-1-2-v0!\n",
      "Registering Coin Collector CoinCollectorSuperMarioBrosEnv-1-3-v0 in gym for use later on.\n",
      "Successfully registered coin collector env CoinCollectorSuperMarioBrosEnv-1-3-v0!\n",
      "Registering Coin Collector CoinCollectorSuperMarioBrosEnv-1-4-v0 in gym for use later on.\n",
      "Successfully registered coin collector env CoinCollectorSuperMarioBrosEnv-1-4-v0!\n",
      "Registering Coin Collector CoinCollectorSuperMarioBrosEnv-2-1-v0 in gym for use later on.\n",
      "Successfully registered coin collector env CoinCollectorSuperMarioBrosEnv-2-1-v0!\n",
      "Registering Coin Collector CoinCollectorSuperMarioBrosEnv-2-2-v0 in gym for use later on.\n",
      "Successfully registered coin collector env CoinCollectorSuperMarioBrosEnv-2-2-v0!\n",
      "Registering Coin Collector CoinCollectorSuperMarioBrosEnv-2-3-v0 in gym for use later on.\n",
      "Successfully registered coin collector env CoinCollectorSuperMarioBrosEnv-2-3-v0!\n",
      "Registering Coin Collector CoinCollectorSuperMarioBrosEnv-2-4-v0 in gym for use later on.\n",
      "Successfully registered coin collector env CoinCollectorSuperMarioBrosEnv-2-4-v0!\n",
      "Registering Coin Collector CoinCollectorSuperMarioBrosEnv-3-1-v0 in gym for use later on.\n",
      "Successfully registered coin collector env CoinCollectorSuperMarioBrosEnv-3-1-v0!\n",
      "Registering Coin Collector CoinCollectorSuperMarioBrosEnv-3-2-v0 in gym for use later on.\n",
      "Successfully registered coin collector env CoinCollectorSuperMarioBrosEnv-3-2-v0!\n",
      "Registering Coin Collector CoinCollectorSuperMarioBrosEnv-3-3-v0 in gym for use later on.\n",
      "Successfully registered coin collector env CoinCollectorSuperMarioBrosEnv-3-3-v0!\n",
      "Registering Coin Collector CoinCollectorSuperMarioBrosEnv-3-4-v0 in gym for use later on.\n",
      "Successfully registered coin collector env CoinCollectorSuperMarioBrosEnv-3-4-v0!\n",
      "Registering Coin Collector CoinCollectorSuperMarioBrosEnv-4-1-v0 in gym for use later on.\n",
      "Successfully registered coin collector env CoinCollectorSuperMarioBrosEnv-4-1-v0!\n",
      "Registering Coin Collector CoinCollectorSuperMarioBrosEnv-4-2-v0 in gym for use later on.\n",
      "Successfully registered coin collector env CoinCollectorSuperMarioBrosEnv-4-2-v0!\n",
      "Registering Coin Collector CoinCollectorSuperMarioBrosEnv-4-3-v0 in gym for use later on.\n",
      "Successfully registered coin collector env CoinCollectorSuperMarioBrosEnv-4-3-v0!\n",
      "Registering Coin Collector CoinCollectorSuperMarioBrosEnv-4-4-v0 in gym for use later on.\n",
      "Successfully registered coin collector env CoinCollectorSuperMarioBrosEnv-4-4-v0!\n",
      "Registering Coin Collector CoinCollectorSuperMarioBrosEnv-5-1-v0 in gym for use later on.\n",
      "Successfully registered coin collector env CoinCollectorSuperMarioBrosEnv-5-1-v0!\n",
      "Registering Coin Collector CoinCollectorSuperMarioBrosEnv-5-2-v0 in gym for use later on.\n",
      "Successfully registered coin collector env CoinCollectorSuperMarioBrosEnv-5-2-v0!\n",
      "Registering Coin Collector CoinCollectorSuperMarioBrosEnv-5-3-v0 in gym for use later on.\n",
      "Successfully registered coin collector env CoinCollectorSuperMarioBrosEnv-5-3-v0!\n",
      "Registering Coin Collector CoinCollectorSuperMarioBrosEnv-5-4-v0 in gym for use later on.\n",
      "Successfully registered coin collector env CoinCollectorSuperMarioBrosEnv-5-4-v0!\n",
      "Registering Coin Collector CoinCollectorSuperMarioBrosEnv-6-1-v0 in gym for use later on.\n",
      "Successfully registered coin collector env CoinCollectorSuperMarioBrosEnv-6-1-v0!\n",
      "Registering Coin Collector CoinCollectorSuperMarioBrosEnv-6-2-v0 in gym for use later on.\n",
      "Successfully registered coin collector env CoinCollectorSuperMarioBrosEnv-6-2-v0!\n",
      "Registering Coin Collector CoinCollectorSuperMarioBrosEnv-6-3-v0 in gym for use later on.\n",
      "Successfully registered coin collector env CoinCollectorSuperMarioBrosEnv-6-3-v0!\n",
      "Registering Coin Collector CoinCollectorSuperMarioBrosEnv-6-4-v0 in gym for use later on.\n",
      "Successfully registered coin collector env CoinCollectorSuperMarioBrosEnv-6-4-v0!\n",
      "Registering Coin Collector CoinCollectorSuperMarioBrosEnv-7-1-v0 in gym for use later on.\n",
      "Successfully registered coin collector env CoinCollectorSuperMarioBrosEnv-7-1-v0!\n",
      "Registering Coin Collector CoinCollectorSuperMarioBrosEnv-7-2-v0 in gym for use later on.\n",
      "Successfully registered coin collector env CoinCollectorSuperMarioBrosEnv-7-2-v0!\n",
      "Registering Coin Collector CoinCollectorSuperMarioBrosEnv-7-3-v0 in gym for use later on.\n",
      "Successfully registered coin collector env CoinCollectorSuperMarioBrosEnv-7-3-v0!\n",
      "Registering Coin Collector CoinCollectorSuperMarioBrosEnv-7-4-v0 in gym for use later on.\n",
      "Successfully registered coin collector env CoinCollectorSuperMarioBrosEnv-7-4-v0!\n",
      "Registering Coin Collector CoinCollectorSuperMarioBrosEnv-8-1-v0 in gym for use later on.\n",
      "Successfully registered coin collector env CoinCollectorSuperMarioBrosEnv-8-1-v0!\n",
      "Registering Coin Collector CoinCollectorSuperMarioBrosEnv-8-2-v0 in gym for use later on.\n",
      "Successfully registered coin collector env CoinCollectorSuperMarioBrosEnv-8-2-v0!\n",
      "Registering Coin Collector CoinCollectorSuperMarioBrosEnv-8-3-v0 in gym for use later on.\n",
      "Successfully registered coin collector env CoinCollectorSuperMarioBrosEnv-8-3-v0!\n",
      "Registering Coin Collector CoinCollectorSuperMarioBrosEnv-8-4-v0 in gym for use later on.\n",
      "Successfully registered coin collector env CoinCollectorSuperMarioBrosEnv-8-4-v0!\n",
      "Registering Coin Collector CoinCollectorSuperMarioBrosEnv-1-1-v1 in gym for use later on.\n",
      "Successfully registered coin collector env CoinCollectorSuperMarioBrosEnv-1-1-v1!\n",
      "Registering Coin Collector CoinCollectorSuperMarioBrosEnv-1-2-v1 in gym for use later on.\n",
      "Successfully registered coin collector env CoinCollectorSuperMarioBrosEnv-1-2-v1!\n",
      "Registering Coin Collector CoinCollectorSuperMarioBrosEnv-1-3-v1 in gym for use later on.\n",
      "Successfully registered coin collector env CoinCollectorSuperMarioBrosEnv-1-3-v1!\n",
      "Registering Coin Collector CoinCollectorSuperMarioBrosEnv-1-4-v1 in gym for use later on.\n",
      "Successfully registered coin collector env CoinCollectorSuperMarioBrosEnv-1-4-v1!\n",
      "Registering Coin Collector CoinCollectorSuperMarioBrosEnv-2-1-v1 in gym for use later on.\n",
      "Successfully registered coin collector env CoinCollectorSuperMarioBrosEnv-2-1-v1!\n",
      "Registering Coin Collector CoinCollectorSuperMarioBrosEnv-2-2-v1 in gym for use later on.\n",
      "Successfully registered coin collector env CoinCollectorSuperMarioBrosEnv-2-2-v1!\n",
      "Registering Coin Collector CoinCollectorSuperMarioBrosEnv-2-3-v1 in gym for use later on.\n",
      "Successfully registered coin collector env CoinCollectorSuperMarioBrosEnv-2-3-v1!\n",
      "Registering Coin Collector CoinCollectorSuperMarioBrosEnv-2-4-v1 in gym for use later on.\n",
      "Successfully registered coin collector env CoinCollectorSuperMarioBrosEnv-2-4-v1!\n",
      "Registering Coin Collector CoinCollectorSuperMarioBrosEnv-3-1-v1 in gym for use later on.\n",
      "Successfully registered coin collector env CoinCollectorSuperMarioBrosEnv-3-1-v1!\n",
      "Registering Coin Collector CoinCollectorSuperMarioBrosEnv-3-2-v1 in gym for use later on.\n",
      "Successfully registered coin collector env CoinCollectorSuperMarioBrosEnv-3-2-v1!\n",
      "Registering Coin Collector CoinCollectorSuperMarioBrosEnv-3-3-v1 in gym for use later on.\n",
      "Successfully registered coin collector env CoinCollectorSuperMarioBrosEnv-3-3-v1!\n",
      "Registering Coin Collector CoinCollectorSuperMarioBrosEnv-3-4-v1 in gym for use later on.\n",
      "Successfully registered coin collector env CoinCollectorSuperMarioBrosEnv-3-4-v1!\n",
      "Registering Coin Collector CoinCollectorSuperMarioBrosEnv-4-1-v1 in gym for use later on.\n",
      "Successfully registered coin collector env CoinCollectorSuperMarioBrosEnv-4-1-v1!\n",
      "Registering Coin Collector CoinCollectorSuperMarioBrosEnv-4-2-v1 in gym for use later on.\n",
      "Successfully registered coin collector env CoinCollectorSuperMarioBrosEnv-4-2-v1!\n",
      "Registering Coin Collector CoinCollectorSuperMarioBrosEnv-4-3-v1 in gym for use later on.\n",
      "Successfully registered coin collector env CoinCollectorSuperMarioBrosEnv-4-3-v1!\n",
      "Registering Coin Collector CoinCollectorSuperMarioBrosEnv-4-4-v1 in gym for use later on.\n",
      "Successfully registered coin collector env CoinCollectorSuperMarioBrosEnv-4-4-v1!\n",
      "Registering Coin Collector CoinCollectorSuperMarioBrosEnv-5-1-v1 in gym for use later on.\n",
      "Successfully registered coin collector env CoinCollectorSuperMarioBrosEnv-5-1-v1!\n",
      "Registering Coin Collector CoinCollectorSuperMarioBrosEnv-5-2-v1 in gym for use later on.\n",
      "Successfully registered coin collector env CoinCollectorSuperMarioBrosEnv-5-2-v1!\n",
      "Registering Coin Collector CoinCollectorSuperMarioBrosEnv-5-3-v1 in gym for use later on.\n",
      "Successfully registered coin collector env CoinCollectorSuperMarioBrosEnv-5-3-v1!\n",
      "Registering Coin Collector CoinCollectorSuperMarioBrosEnv-5-4-v1 in gym for use later on.\n",
      "Successfully registered coin collector env CoinCollectorSuperMarioBrosEnv-5-4-v1!\n",
      "Registering Coin Collector CoinCollectorSuperMarioBrosEnv-6-1-v1 in gym for use later on.\n",
      "Successfully registered coin collector env CoinCollectorSuperMarioBrosEnv-6-1-v1!\n",
      "Registering Coin Collector CoinCollectorSuperMarioBrosEnv-6-2-v1 in gym for use later on.\n",
      "Successfully registered coin collector env CoinCollectorSuperMarioBrosEnv-6-2-v1!\n",
      "Registering Coin Collector CoinCollectorSuperMarioBrosEnv-6-3-v1 in gym for use later on.\n",
      "Successfully registered coin collector env CoinCollectorSuperMarioBrosEnv-6-3-v1!\n",
      "Registering Coin Collector CoinCollectorSuperMarioBrosEnv-6-4-v1 in gym for use later on.\n",
      "Successfully registered coin collector env CoinCollectorSuperMarioBrosEnv-6-4-v1!\n",
      "Registering Coin Collector CoinCollectorSuperMarioBrosEnv-7-1-v1 in gym for use later on.\n",
      "Successfully registered coin collector env CoinCollectorSuperMarioBrosEnv-7-1-v1!\n",
      "Registering Coin Collector CoinCollectorSuperMarioBrosEnv-7-2-v1 in gym for use later on.\n",
      "Successfully registered coin collector env CoinCollectorSuperMarioBrosEnv-7-2-v1!\n",
      "Registering Coin Collector CoinCollectorSuperMarioBrosEnv-7-3-v1 in gym for use later on.\n",
      "Successfully registered coin collector env CoinCollectorSuperMarioBrosEnv-7-3-v1!\n",
      "Registering Coin Collector CoinCollectorSuperMarioBrosEnv-7-4-v1 in gym for use later on.\n",
      "Successfully registered coin collector env CoinCollectorSuperMarioBrosEnv-7-4-v1!\n",
      "Registering Coin Collector CoinCollectorSuperMarioBrosEnv-8-1-v1 in gym for use later on.\n",
      "Successfully registered coin collector env CoinCollectorSuperMarioBrosEnv-8-1-v1!\n",
      "Registering Coin Collector CoinCollectorSuperMarioBrosEnv-8-2-v1 in gym for use later on.\n",
      "Successfully registered coin collector env CoinCollectorSuperMarioBrosEnv-8-2-v1!\n",
      "Registering Coin Collector CoinCollectorSuperMarioBrosEnv-8-3-v1 in gym for use later on.\n",
      "Successfully registered coin collector env CoinCollectorSuperMarioBrosEnv-8-3-v1!\n",
      "Registering Coin Collector CoinCollectorSuperMarioBrosEnv-8-4-v1 in gym for use later on.\n",
      "Successfully registered coin collector env CoinCollectorSuperMarioBrosEnv-8-4-v1!\n",
      "Registering Coin Collector CoinCollectorSuperMarioBrosEnv-1-1-v2 in gym for use later on.\n",
      "Successfully registered coin collector env CoinCollectorSuperMarioBrosEnv-1-1-v2!\n",
      "Registering Coin Collector CoinCollectorSuperMarioBrosEnv-1-2-v2 in gym for use later on.\n",
      "Successfully registered coin collector env CoinCollectorSuperMarioBrosEnv-1-2-v2!\n",
      "Registering Coin Collector CoinCollectorSuperMarioBrosEnv-1-3-v2 in gym for use later on.\n",
      "Successfully registered coin collector env CoinCollectorSuperMarioBrosEnv-1-3-v2!\n",
      "Registering Coin Collector CoinCollectorSuperMarioBrosEnv-1-4-v2 in gym for use later on.\n",
      "Successfully registered coin collector env CoinCollectorSuperMarioBrosEnv-1-4-v2!\n",
      "Registering Coin Collector CoinCollectorSuperMarioBrosEnv-2-1-v2 in gym for use later on.\n",
      "Successfully registered coin collector env CoinCollectorSuperMarioBrosEnv-2-1-v2!\n",
      "Registering Coin Collector CoinCollectorSuperMarioBrosEnv-2-2-v2 in gym for use later on.\n",
      "Successfully registered coin collector env CoinCollectorSuperMarioBrosEnv-2-2-v2!\n",
      "Registering Coin Collector CoinCollectorSuperMarioBrosEnv-2-3-v2 in gym for use later on.\n",
      "Successfully registered coin collector env CoinCollectorSuperMarioBrosEnv-2-3-v2!\n",
      "Registering Coin Collector CoinCollectorSuperMarioBrosEnv-2-4-v2 in gym for use later on.\n",
      "Successfully registered coin collector env CoinCollectorSuperMarioBrosEnv-2-4-v2!\n",
      "Registering Coin Collector CoinCollectorSuperMarioBrosEnv-3-1-v2 in gym for use later on.\n",
      "Successfully registered coin collector env CoinCollectorSuperMarioBrosEnv-3-1-v2!\n",
      "Registering Coin Collector CoinCollectorSuperMarioBrosEnv-3-2-v2 in gym for use later on.\n",
      "Successfully registered coin collector env CoinCollectorSuperMarioBrosEnv-3-2-v2!\n",
      "Registering Coin Collector CoinCollectorSuperMarioBrosEnv-3-3-v2 in gym for use later on.\n",
      "Successfully registered coin collector env CoinCollectorSuperMarioBrosEnv-3-3-v2!\n",
      "Registering Coin Collector CoinCollectorSuperMarioBrosEnv-3-4-v2 in gym for use later on.\n",
      "Successfully registered coin collector env CoinCollectorSuperMarioBrosEnv-3-4-v2!\n",
      "Registering Coin Collector CoinCollectorSuperMarioBrosEnv-4-1-v2 in gym for use later on.\n",
      "Successfully registered coin collector env CoinCollectorSuperMarioBrosEnv-4-1-v2!\n",
      "Registering Coin Collector CoinCollectorSuperMarioBrosEnv-4-2-v2 in gym for use later on.\n",
      "Successfully registered coin collector env CoinCollectorSuperMarioBrosEnv-4-2-v2!\n",
      "Registering Coin Collector CoinCollectorSuperMarioBrosEnv-4-3-v2 in gym for use later on.\n",
      "Successfully registered coin collector env CoinCollectorSuperMarioBrosEnv-4-3-v2!\n",
      "Registering Coin Collector CoinCollectorSuperMarioBrosEnv-4-4-v2 in gym for use later on.\n",
      "Successfully registered coin collector env CoinCollectorSuperMarioBrosEnv-4-4-v2!\n",
      "Registering Coin Collector CoinCollectorSuperMarioBrosEnv-5-1-v2 in gym for use later on.\n",
      "Successfully registered coin collector env CoinCollectorSuperMarioBrosEnv-5-1-v2!\n",
      "Registering Coin Collector CoinCollectorSuperMarioBrosEnv-5-2-v2 in gym for use later on.\n",
      "Successfully registered coin collector env CoinCollectorSuperMarioBrosEnv-5-2-v2!\n",
      "Registering Coin Collector CoinCollectorSuperMarioBrosEnv-5-3-v2 in gym for use later on.\n",
      "Successfully registered coin collector env CoinCollectorSuperMarioBrosEnv-5-3-v2!\n",
      "Registering Coin Collector CoinCollectorSuperMarioBrosEnv-5-4-v2 in gym for use later on.\n",
      "Successfully registered coin collector env CoinCollectorSuperMarioBrosEnv-5-4-v2!\n",
      "Registering Coin Collector CoinCollectorSuperMarioBrosEnv-6-1-v2 in gym for use later on.\n",
      "Successfully registered coin collector env CoinCollectorSuperMarioBrosEnv-6-1-v2!\n",
      "Registering Coin Collector CoinCollectorSuperMarioBrosEnv-6-2-v2 in gym for use later on.\n",
      "Successfully registered coin collector env CoinCollectorSuperMarioBrosEnv-6-2-v2!\n",
      "Registering Coin Collector CoinCollectorSuperMarioBrosEnv-6-3-v2 in gym for use later on.\n",
      "Successfully registered coin collector env CoinCollectorSuperMarioBrosEnv-6-3-v2!\n",
      "Registering Coin Collector CoinCollectorSuperMarioBrosEnv-6-4-v2 in gym for use later on.\n",
      "Successfully registered coin collector env CoinCollectorSuperMarioBrosEnv-6-4-v2!\n",
      "Registering Coin Collector CoinCollectorSuperMarioBrosEnv-7-1-v2 in gym for use later on.\n",
      "Successfully registered coin collector env CoinCollectorSuperMarioBrosEnv-7-1-v2!\n",
      "Registering Coin Collector CoinCollectorSuperMarioBrosEnv-7-2-v2 in gym for use later on.\n",
      "Successfully registered coin collector env CoinCollectorSuperMarioBrosEnv-7-2-v2!\n",
      "Registering Coin Collector CoinCollectorSuperMarioBrosEnv-7-3-v2 in gym for use later on.\n",
      "Successfully registered coin collector env CoinCollectorSuperMarioBrosEnv-7-3-v2!\n",
      "Registering Coin Collector CoinCollectorSuperMarioBrosEnv-7-4-v2 in gym for use later on.\n",
      "Successfully registered coin collector env CoinCollectorSuperMarioBrosEnv-7-4-v2!\n",
      "Registering Coin Collector CoinCollectorSuperMarioBrosEnv-8-1-v2 in gym for use later on.\n",
      "Successfully registered coin collector env CoinCollectorSuperMarioBrosEnv-8-1-v2!\n",
      "Registering Coin Collector CoinCollectorSuperMarioBrosEnv-8-2-v2 in gym for use later on.\n",
      "Successfully registered coin collector env CoinCollectorSuperMarioBrosEnv-8-2-v2!\n",
      "Registering Coin Collector CoinCollectorSuperMarioBrosEnv-8-3-v2 in gym for use later on.\n",
      "Successfully registered coin collector env CoinCollectorSuperMarioBrosEnv-8-3-v2!\n",
      "Registering Coin Collector CoinCollectorSuperMarioBrosEnv-8-4-v2 in gym for use later on.\n",
      "Successfully registered coin collector env CoinCollectorSuperMarioBrosEnv-8-4-v2!\n",
      "Registering Coin Collector CoinCollectorSuperMarioBrosEnv-1-1-v3 in gym for use later on.\n",
      "Successfully registered coin collector env CoinCollectorSuperMarioBrosEnv-1-1-v3!\n",
      "Registering Coin Collector CoinCollectorSuperMarioBrosEnv-1-2-v3 in gym for use later on.\n",
      "Successfully registered coin collector env CoinCollectorSuperMarioBrosEnv-1-2-v3!\n",
      "Registering Coin Collector CoinCollectorSuperMarioBrosEnv-1-3-v3 in gym for use later on.\n",
      "Successfully registered coin collector env CoinCollectorSuperMarioBrosEnv-1-3-v3!\n",
      "Registering Coin Collector CoinCollectorSuperMarioBrosEnv-1-4-v3 in gym for use later on.\n",
      "Successfully registered coin collector env CoinCollectorSuperMarioBrosEnv-1-4-v3!\n",
      "Registering Coin Collector CoinCollectorSuperMarioBrosEnv-2-1-v3 in gym for use later on.\n",
      "Successfully registered coin collector env CoinCollectorSuperMarioBrosEnv-2-1-v3!\n",
      "Registering Coin Collector CoinCollectorSuperMarioBrosEnv-2-2-v3 in gym for use later on.\n",
      "Successfully registered coin collector env CoinCollectorSuperMarioBrosEnv-2-2-v3!\n",
      "Registering Coin Collector CoinCollectorSuperMarioBrosEnv-2-3-v3 in gym for use later on.\n",
      "Successfully registered coin collector env CoinCollectorSuperMarioBrosEnv-2-3-v3!\n",
      "Registering Coin Collector CoinCollectorSuperMarioBrosEnv-2-4-v3 in gym for use later on.\n",
      "Successfully registered coin collector env CoinCollectorSuperMarioBrosEnv-2-4-v3!\n",
      "Registering Coin Collector CoinCollectorSuperMarioBrosEnv-3-1-v3 in gym for use later on.\n",
      "Successfully registered coin collector env CoinCollectorSuperMarioBrosEnv-3-1-v3!\n",
      "Registering Coin Collector CoinCollectorSuperMarioBrosEnv-3-2-v3 in gym for use later on.\n",
      "Successfully registered coin collector env CoinCollectorSuperMarioBrosEnv-3-2-v3!\n",
      "Registering Coin Collector CoinCollectorSuperMarioBrosEnv-3-3-v3 in gym for use later on.\n",
      "Successfully registered coin collector env CoinCollectorSuperMarioBrosEnv-3-3-v3!\n",
      "Registering Coin Collector CoinCollectorSuperMarioBrosEnv-3-4-v3 in gym for use later on.\n",
      "Successfully registered coin collector env CoinCollectorSuperMarioBrosEnv-3-4-v3!\n",
      "Registering Coin Collector CoinCollectorSuperMarioBrosEnv-4-1-v3 in gym for use later on.\n",
      "Successfully registered coin collector env CoinCollectorSuperMarioBrosEnv-4-1-v3!\n",
      "Registering Coin Collector CoinCollectorSuperMarioBrosEnv-4-2-v3 in gym for use later on.\n",
      "Successfully registered coin collector env CoinCollectorSuperMarioBrosEnv-4-2-v3!\n",
      "Registering Coin Collector CoinCollectorSuperMarioBrosEnv-4-3-v3 in gym for use later on.\n",
      "Successfully registered coin collector env CoinCollectorSuperMarioBrosEnv-4-3-v3!\n",
      "Registering Coin Collector CoinCollectorSuperMarioBrosEnv-4-4-v3 in gym for use later on.\n",
      "Successfully registered coin collector env CoinCollectorSuperMarioBrosEnv-4-4-v3!\n",
      "Registering Coin Collector CoinCollectorSuperMarioBrosEnv-5-1-v3 in gym for use later on.\n",
      "Successfully registered coin collector env CoinCollectorSuperMarioBrosEnv-5-1-v3!\n",
      "Registering Coin Collector CoinCollectorSuperMarioBrosEnv-5-2-v3 in gym for use later on.\n",
      "Successfully registered coin collector env CoinCollectorSuperMarioBrosEnv-5-2-v3!\n",
      "Registering Coin Collector CoinCollectorSuperMarioBrosEnv-5-3-v3 in gym for use later on.\n",
      "Successfully registered coin collector env CoinCollectorSuperMarioBrosEnv-5-3-v3!\n",
      "Registering Coin Collector CoinCollectorSuperMarioBrosEnv-5-4-v3 in gym for use later on.\n",
      "Successfully registered coin collector env CoinCollectorSuperMarioBrosEnv-5-4-v3!\n",
      "Registering Coin Collector CoinCollectorSuperMarioBrosEnv-6-1-v3 in gym for use later on.\n",
      "Successfully registered coin collector env CoinCollectorSuperMarioBrosEnv-6-1-v3!\n",
      "Registering Coin Collector CoinCollectorSuperMarioBrosEnv-6-2-v3 in gym for use later on.\n",
      "Successfully registered coin collector env CoinCollectorSuperMarioBrosEnv-6-2-v3!\n",
      "Registering Coin Collector CoinCollectorSuperMarioBrosEnv-6-3-v3 in gym for use later on.\n",
      "Successfully registered coin collector env CoinCollectorSuperMarioBrosEnv-6-3-v3!\n",
      "Registering Coin Collector CoinCollectorSuperMarioBrosEnv-6-4-v3 in gym for use later on.\n",
      "Successfully registered coin collector env CoinCollectorSuperMarioBrosEnv-6-4-v3!\n",
      "Registering Coin Collector CoinCollectorSuperMarioBrosEnv-7-1-v3 in gym for use later on.\n",
      "Successfully registered coin collector env CoinCollectorSuperMarioBrosEnv-7-1-v3!\n",
      "Registering Coin Collector CoinCollectorSuperMarioBrosEnv-7-2-v3 in gym for use later on.\n",
      "Successfully registered coin collector env CoinCollectorSuperMarioBrosEnv-7-2-v3!\n",
      "Registering Coin Collector CoinCollectorSuperMarioBrosEnv-7-3-v3 in gym for use later on.\n",
      "Successfully registered coin collector env CoinCollectorSuperMarioBrosEnv-7-3-v3!\n",
      "Registering Coin Collector CoinCollectorSuperMarioBrosEnv-7-4-v3 in gym for use later on.\n",
      "Successfully registered coin collector env CoinCollectorSuperMarioBrosEnv-7-4-v3!\n",
      "Registering Coin Collector CoinCollectorSuperMarioBrosEnv-8-1-v3 in gym for use later on.\n",
      "Successfully registered coin collector env CoinCollectorSuperMarioBrosEnv-8-1-v3!\n",
      "Registering Coin Collector CoinCollectorSuperMarioBrosEnv-8-2-v3 in gym for use later on.\n",
      "Successfully registered coin collector env CoinCollectorSuperMarioBrosEnv-8-2-v3!\n",
      "Registering Coin Collector CoinCollectorSuperMarioBrosEnv-8-3-v3 in gym for use later on.\n",
      "Successfully registered coin collector env CoinCollectorSuperMarioBrosEnv-8-3-v3!\n",
      "Registering Coin Collector CoinCollectorSuperMarioBrosEnv-8-4-v3 in gym for use later on.\n",
      "Successfully registered coin collector env CoinCollectorSuperMarioBrosEnv-8-4-v3!\n",
      "state: (1, 84, 84, 4)\n"
     ]
    },
    {
     "name": "stderr",
     "output_type": "stream",
     "text": [
      "/Users/gracengu/miniconda3/envs/mario_proj/lib/python3.8/site-packages/gym/wrappers/record_video.py:41: UserWarning: \u001b[33mWARN: Overwriting existing videos at /Users/gracengu/Projects/NUS-CS5446-Its_ah_me_Mario/agents/ppo/mario_plays/cc_model/2328000 folder (try specifying a different `video_folder` for the `RecordVideo` wrapper if this is not desired)\u001b[0m\n",
      "  logger.warn(\n"
     ]
    },
    {
     "name": "stdout",
     "output_type": "stream",
     "text": [
      "Episode 2 done\n"
     ]
    },
    {
     "data": {
      "text/plain": [
       "array([ True])"
      ]
     },
     "execution_count": 5,
     "metadata": {},
     "output_type": "execute_result"
    }
   ],
   "source": [
    "best_cc_model_timestep = 2328000\n",
    "best_reg_model_timestep = 2273000\n",
    "\n",
    "record_plays(best_epoch=best_cc_model_timestep, plays=3, use_coin_collector_env=True)"
   ]
  },
  {
   "cell_type": "code",
   "execution_count": 11,
   "metadata": {},
   "outputs": [
    {
     "name": "stdout",
     "output_type": "stream",
     "text": [
      "state: (1, 84, 84, 4)\n",
      "Episode 2 done\n"
     ]
    },
    {
     "data": {
      "text/plain": [
       "array([ True])"
      ]
     },
     "execution_count": 11,
     "metadata": {},
     "output_type": "execute_result"
    }
   ],
   "source": [
    "record_plays(best_epoch=best_reg_model_timestep, plays=3, use_coin_collector_env=False)"
   ]
  },
  {
   "cell_type": "markdown",
   "metadata": {},
   "source": [
    "# 3 success 3 failures"
   ]
  },
  {
   "cell_type": "code",
   "execution_count": 21,
   "metadata": {},
   "outputs": [
    {
     "name": "stdout",
     "output_type": "stream",
     "text": [
      "state: (1, 84, 84, 4)\n"
     ]
    },
    {
     "name": "stderr",
     "output_type": "stream",
     "text": [
      "/Users/gracengu/miniconda3/envs/mario_proj/lib/python3.8/site-packages/gym/wrappers/record_video.py:41: UserWarning: \u001b[33mWARN: Overwriting existing videos at /Users/gracengu/Projects/NUS-CS5446-Its_ah_me_Mario/agents/ppo/mario_plays/reg_model/2273000 folder (try specifying a different `video_folder` for the `RecordVideo` wrapper if this is not desired)\u001b[0m\n",
      "  logger.warn(\n"
     ]
    },
    {
     "name": "stdout",
     "output_type": "stream",
     "text": [
      "Episode 2 done\n"
     ]
    },
    {
     "data": {
      "text/plain": [
       "array([ True])"
      ]
     },
     "execution_count": 21,
     "metadata": {},
     "output_type": "execute_result"
    }
   ],
   "source": [
    "best_cc_model_timestep = 2328000\n",
    "best_reg_model_timestep = 2273000\n",
    "\n",
    "# record_plays(best_epoch=best_cc_model_timestep, plays=3, world=1, stage=1, version=3, use_coin_collector_env=True)\n",
    "record_plays(best_epoch=best_reg_model_timestep, plays=3, world=1, stage=1, version=3, use_coin_collector_env=False)"
   ]
  },
  {
   "cell_type": "markdown",
   "metadata": {},
   "source": [
    "## Evaluate generalizability"
   ]
  },
  {
   "cell_type": "code",
   "execution_count": 26,
   "metadata": {},
   "outputs": [],
   "source": [
    "from tqdm import tqdm"
   ]
  },
  {
   "cell_type": "code",
   "execution_count": 27,
   "metadata": {},
   "outputs": [],
   "source": [
    "def pass_rate(model=None, plays=1000, world=1, stage=1, version=3, use_coin_collector_env=True):\n",
    "    get_count = 0\n",
    "    coin_count = 0\n",
    "    coin_collection = []\n",
    "\n",
    "    env = env_setup(world=world, stage=stage, version=version, use_coin_collector_env=use_coin_collector_env)\n",
    "\n",
    "    for _ in tqdm(range(plays)):\n",
    "        state = env.reset()\n",
    "        done = False\n",
    "        while not done:\n",
    "            action, _ = model.predict(state)\n",
    "            state, reward, done, info = env.step(action)\n",
    "        if info[0]['flag_get'] == True:\n",
    "            get_count += 1\n",
    "        coin_count_current_play = info[0]['coins']\n",
    "        coin_collection.append(coin_count_current_play)\n",
    "        coin_count += info[0]['coins']\n",
    "    # print(f'flag get count: {get_count}')\n",
    "    # print(f'total coin count: {coin_count}')\n",
    "\n",
    "    return get_count, coin_count, coin_collection\n",
    "\n",
    "def env_setup(world=1, stage=1, version=3, use_coin_collector_env=True):\n",
    "\n",
    "    env = create_mario_env(world=world, stage=stage, version=version, use_coin_collector_env=use_coin_collector_env)\n",
    "    env.reset()\n",
    "    state, reward, done, info = env.step([0])\n",
    "    print('state:', state.shape) #Color scale, height, width, num of stacks\n",
    "\n",
    "    env = create_mario_env(world=world, stage=stage, version=version, use_coin_collector_env=use_coin_collector_env)\n",
    "    return env"
   ]
  },
  {
   "cell_type": "code",
   "execution_count": 14,
   "metadata": {},
   "outputs": [
    {
     "name": "stdout",
     "output_type": "stream",
     "text": [
      "state: (1, 84, 84, 4)\n"
     ]
    },
    {
     "name": "stderr",
     "output_type": "stream",
     "text": [
      "/Users/gracengu/miniconda3/envs/mario_proj/lib/python3.8/site-packages/gym/wrappers/record_video.py:41: UserWarning: \u001b[33mWARN: Overwriting existing videos at /Users/gracengu/Projects/NUS-CS5446-Its_ah_me_Mario/agents/ppo/mario_plays/cc_model/2328000 folder (try specifying a different `video_folder` for the `RecordVideo` wrapper if this is not desired)\u001b[0m\n",
      "  logger.warn(\n"
     ]
    },
    {
     "name": "stdout",
     "output_type": "stream",
     "text": [
      "Episode 2 done\n",
      "state: (1, 84, 84, 4)\n"
     ]
    },
    {
     "name": "stderr",
     "output_type": "stream",
     "text": [
      "/Users/gracengu/miniconda3/envs/mario_proj/lib/python3.8/site-packages/gym/wrappers/record_video.py:41: UserWarning: \u001b[33mWARN: Overwriting existing videos at /Users/gracengu/Projects/NUS-CS5446-Its_ah_me_Mario/agents/ppo/mario_plays/reg_model/2273000 folder (try specifying a different `video_folder` for the `RecordVideo` wrapper if this is not desired)\u001b[0m\n",
      "  logger.warn(\n"
     ]
    },
    {
     "name": "stdout",
     "output_type": "stream",
     "text": [
      "Episode 2 done\n"
     ]
    },
    {
     "data": {
      "text/plain": [
       "array([ True])"
      ]
     },
     "execution_count": 14,
     "metadata": {},
     "output_type": "execute_result"
    }
   ],
   "source": [
    "best_cc_model_timestep = 2328000\n",
    "best_reg_model_timestep = 2273000\n",
    "\n",
    "record_plays(best_epoch=best_cc_model_timestep, plays=3, world=3, stage=1, version=3, use_coin_collector_env=True)\n",
    "record_plays(best_epoch=best_reg_model_timestep, plays=3, world=3, stage=1, version=3, use_coin_collector_env=False)"
   ]
  },
  {
   "cell_type": "code",
   "execution_count": 29,
   "metadata": {},
   "outputs": [
    {
     "name": "stdout",
     "output_type": "stream",
     "text": [
      "state: (1, 84, 84, 4)\n"
     ]
    },
    {
     "name": "stderr",
     "output_type": "stream",
     "text": [
      "100%|██████████| 3000/3000 [2:04:27<00:00,  2.49s/it]  "
     ]
    },
    {
     "name": "stdout",
     "output_type": "stream",
     "text": [
      "1100 3064 [1, 2, 1, 0, 1, 1, 2, 0, 0, 2, 2, 1, 3, 2, 1, 2, 1, 0, 2, 1, 1, 1, 2, 1, 0, 1, 2, 1, 0, 2, 2, 2, 0, 1, 1, 1, 1, 0, 1, 2, 2, 2, 1, 0, 2, 1, 3, 2, 1, 0, 1, 2, 0, 1, 1, 1, 0, 0, 2, 1, 1, 2, 1, 2, 2, 1, 1, 1, 1, 2, 2, 1, 1, 2, 1, 1, 1, 0, 1, 1, 1, 1, 1, 1, 3, 0, 0, 1, 1, 2, 1, 1, 1, 0, 1, 1, 1, 0, 1, 1, 1, 1, 1, 1, 2, 0, 2, 1, 4, 1, 2, 1, 0, 0, 1, 1, 0, 1, 0, 1, 2, 1, 1, 1, 1, 2, 0, 0, 1, 2, 0, 1, 3, 1, 1, 2, 1, 1, 1, 0, 1, 1, 2, 0, 1, 2, 1, 0, 0, 2, 1, 1, 1, 2, 1, 1, 1, 0, 1, 1, 0, 1, 1, 1, 1, 1, 1, 2, 1, 1, 0, 0, 0, 1, 1, 2, 1, 2, 1, 1, 0, 1, 0, 1, 1, 3, 2, 1, 1, 0, 2, 1, 2, 0, 1, 1, 1, 1, 1, 1, 0, 1, 0, 2, 1, 1, 1, 1, 2, 1, 2, 1, 1, 2, 1, 2, 1, 2, 1, 2, 1, 2, 2, 2, 1, 1, 0, 0, 0, 1, 2, 2, 2, 2, 0, 2, 0, 2, 2, 0, 2, 1, 0, 0, 0, 1, 2, 0, 1, 2, 0, 2, 0, 2, 1, 0, 2, 1, 0, 0, 0, 1, 0, 0, 1, 2, 0, 1, 2, 1, 1, 2, 1, 1, 1, 2, 1, 2, 1, 0, 0, 2, 1, 1, 1, 1, 1, 3, 0, 1, 1, 0, 2, 0, 3, 1, 1, 1, 0, 2, 0, 2, 2, 1, 1, 1, 0, 1, 1, 2, 2, 0, 1, 1, 2, 2, 1, 1, 0, 0, 2, 0, 2, 1, 1, 1, 2, 2, 1, 0, 1, 1, 1, 0, 1, 2, 1, 1, 1, 1, 1, 0, 1, 1, 0, 2, 1, 2, 1, 0, 1, 1, 0, 1, 1, 0, 2, 0, 1, 0, 1, 0, 1, 2, 2, 1, 0, 0, 1, 1, 0, 0, 2, 2, 1, 2, 2, 2, 1, 1, 2, 2, 1, 1, 2, 1, 1, 0, 0, 1, 1, 1, 1, 1, 0, 2, 4, 1, 1, 2, 2, 2, 2, 0, 1, 1, 1, 1, 0, 0, 2, 1, 1, 0, 1, 2, 1, 0, 0, 2, 1, 1, 1, 0, 2, 0, 3, 1, 1, 2, 1, 1, 2, 2, 1, 1, 2, 1, 2, 1, 1, 1, 0, 2, 1, 0, 1, 1, 0, 2, 2, 0, 1, 1, 1, 1, 1, 0, 2, 1, 1, 2, 0, 1, 1, 1, 1, 1, 1, 0, 1, 1, 1, 0, 1, 0, 1, 1, 1, 1, 0, 1, 1, 2, 1, 0, 1, 0, 0, 2, 1, 3, 3, 2, 1, 0, 1, 0, 2, 2, 1, 2, 1, 1, 3, 1, 1, 2, 13, 0, 2, 1, 0, 0, 1, 0, 0, 2, 2, 1, 1, 1, 0, 1, 1, 0, 2, 0, 2, 0, 1, 0, 0, 1, 2, 1, 1, 1, 2, 0, 2, 1, 1, 0, 1, 2, 1, 1, 1, 2, 1, 1, 1, 2, 1, 1, 0, 0, 1, 1, 1, 0, 0, 1, 1, 1, 2, 2, 2, 1, 2, 2, 0, 0, 1, 0, 2, 1, 2, 2, 0, 1, 0, 0, 1, 1, 2, 1, 1, 1, 1, 1, 1, 2, 0, 2, 1, 1, 1, 2, 1, 0, 1, 0, 2, 1, 1, 0, 2, 1, 1, 1, 1, 0, 1, 1, 1, 0, 1, 0, 0, 1, 1, 1, 1, 2, 1, 3, 2, 1, 1, 1, 1, 1, 1, 1, 1, 2, 2, 1, 1, 1, 0, 2, 2, 1, 3, 1, 1, 1, 1, 1, 1, 1, 2, 1, 1, 0, 1, 0, 0, 0, 1, 2, 2, 1, 1, 0, 1, 1, 1, 0, 1, 2, 1, 1, 0, 1, 1, 1, 2, 0, 1, 1, 1, 1, 1, 2, 1, 1, 1, 2, 1, 1, 1, 1, 0, 2, 0, 1, 1, 2, 0, 1, 2, 1, 1, 0, 1, 1, 1, 0, 0, 2, 0, 1, 0, 1, 1, 1, 1, 1, 2, 2, 0, 0, 0, 1, 3, 0, 1, 1, 1, 1, 1, 2, 1, 1, 0, 1, 1, 1, 0, 1, 0, 1, 0, 1, 1, 1, 1, 1, 1, 0, 2, 0, 0, 1, 0, 2, 0, 2, 2, 1, 0, 1, 1, 1, 1, 2, 2, 1, 0, 1, 0, 0, 1, 0, 1, 2, 1, 2, 1, 0, 1, 2, 0, 2, 1, 0, 2, 1, 1, 1, 1, 1, 0, 1, 1, 1, 0, 1, 1, 1, 1, 1, 2, 1, 0, 1, 0, 1, 0, 0, 0, 1, 2, 0, 0, 0, 2, 2, 1, 0, 0, 1, 1, 2, 3, 0, 1, 1, 0, 3, 1, 1, 1, 1, 1, 2, 1, 1, 2, 0, 0, 1, 2, 0, 1, 0, 0, 0, 0, 0, 2, 0, 1, 1, 1, 1, 1, 1, 0, 2, 1, 1, 1, 0, 2, 1, 1, 0, 1, 2, 1, 1, 1, 1, 1, 2, 2, 2, 1, 1, 1, 1, 0, 1, 2, 1, 0, 1, 0, 1, 1, 1, 0, 1, 0, 2, 1, 2, 1, 1, 1, 0, 2, 1, 1, 0, 1, 2, 0, 1, 0, 1, 2, 0, 1, 0, 0, 1, 1, 0, 2, 1, 0, 1, 0, 0, 1, 1, 0, 1, 0, 2, 1, 1, 1, 1, 1, 1, 1, 1, 1, 1, 1, 2, 1, 0, 0, 1, 0, 10, 1, 1, 1, 0, 0, 1, 1, 1, 2, 0, 0, 0, 1, 2, 0, 1, 3, 2, 1, 1, 0, 2, 1, 1, 1, 1, 2, 1, 1, 0, 1, 1, 1, 2, 1, 1, 1, 1, 0, 0, 2, 0, 0, 1, 0, 0, 1, 0, 1, 1, 1, 1, 0, 1, 1, 2, 1, 2, 1, 2, 1, 0, 1, 0, 1, 0, 1, 2, 1, 2, 2, 0, 1, 2, 1, 1, 2, 2, 1, 0, 1, 1, 0, 1, 0, 1, 1, 1, 2, 1, 3, 1, 1, 1, 1, 0, 2, 1, 2, 1, 0, 1, 1, 2, 2, 1, 1, 2, 2, 0, 1, 1, 2, 1, 2, 1, 1, 1, 1, 0, 1, 0, 1, 0, 1, 1, 1, 1, 1, 2, 0, 2, 2, 1, 1, 0, 0, 1, 1, 2, 1, 1, 2, 1, 2, 1, 1, 2, 0, 1, 1, 2, 1, 1, 1, 2, 2, 1, 1, 0, 1, 1, 1, 2, 1, 0, 2, 1, 1, 0, 2, 2, 1, 0, 2, 0, 1, 0, 1, 0, 2, 0, 1, 0, 3, 3, 0, 2, 1, 1, 0, 0, 1, 1, 1, 0, 2, 1, 2, 0, 1, 2, 1, 0, 2, 2, 2, 1, 1, 2, 2, 1, 0, 1, 2, 1, 0, 0, 1, 1, 0, 2, 1, 0, 0, 2, 1, 2, 2, 0, 1, 0, 1, 0, 1, 0, 1, 1, 2, 1, 0, 2, 2, 0, 1, 0, 1, 1, 1, 2, 0, 1, 1, 1, 1, 2, 2, 2, 2, 0, 1, 2, 2, 0, 1, 1, 1, 0, 2, 1, 1, 1, 1, 1, 0, 2, 1, 1, 2, 2, 2, 0, 1, 2, 1, 1, 1, 1, 0, 0, 1, 0, 1, 1, 2, 0, 0, 0, 1, 1, 2, 1, 0, 0, 1, 1, 1, 2, 2, 2, 0, 2, 2, 0, 1, 1, 0, 2, 2, 1, 2, 1, 1, 2, 0, 1, 2, 1, 1, 0, 1, 1, 1, 1, 0, 1, 1, 0, 1, 1, 1, 1, 1, 1, 2, 2, 1, 2, 0, 1, 2, 1, 3, 2, 0, 2, 1, 1, 1, 0, 1, 1, 0, 2, 0, 2, 1, 1, 1, 1, 3, 1, 1, 1, 1, 0, 1, 0, 0, 1, 1, 0, 0, 1, 2, 2, 1, 1, 1, 0, 0, 0, 0, 2, 1, 1, 1, 0, 0, 2, 2, 1, 1, 0, 1, 2, 1, 1, 0, 1, 1, 0, 1, 3, 1, 1, 2, 2, 1, 1, 1, 0, 2, 1, 0, 1, 1, 1, 1, 2, 0, 0, 2, 1, 0, 2, 0, 2, 1, 2, 2, 0, 1, 0, 1, 0, 0, 2, 1, 2, 0, 1, 1, 2, 1, 0, 1, 1, 0, 1, 2, 0, 2, 0, 2, 1, 1, 2, 2, 1, 1, 1, 0, 1, 1, 0, 1, 1, 2, 1, 0, 0, 0, 1, 1, 0, 2, 1, 2, 0, 0, 1, 2, 1, 1, 1, 1, 1, 1, 1, 1, 1, 0, 1, 0, 2, 1, 2, 1, 1, 0, 1, 1, 1, 1, 2, 0, 2, 0, 0, 1, 1, 1, 1, 1, 0, 0, 1, 2, 2, 1, 3, 1, 1, 2, 1, 1, 1, 0, 1, 0, 0, 1, 1, 1, 2, 0, 2, 2, 1, 0, 1, 1, 1, 2, 1, 0, 1, 1, 1, 1, 1, 1, 0, 1, 1, 2, 1, 0, 2, 0, 2, 1, 1, 0, 1, 0, 1, 1, 0, 0, 0, 2, 0, 1, 0, 0, 1, 2, 2, 0, 1, 1, 0, 2, 2, 1, 1, 1, 1, 0, 0, 1, 0, 1, 0, 1, 0, 1, 1, 0, 1, 1, 0, 1, 0, 1, 1, 1, 1, 1, 0, 0, 1, 1, 1, 1, 0, 1, 1, 1, 1, 0, 1, 1, 1, 2, 0, 1, 2, 2, 3, 2, 0, 1, 1, 1, 1, 2, 0, 0, 1, 1, 0, 0, 1, 1, 2, 1, 1, 2, 1, 1, 0, 0, 1, 1, 2, 1, 1, 1, 0, 1, 0, 2, 1, 2, 1, 1, 2, 1, 0, 0, 2, 0, 2, 1, 2, 1, 1, 1, 2, 1, 1, 0, 2, 1, 2, 1, 2, 0, 0, 2, 2, 1, 2, 1, 1, 0, 1, 1, 1, 2, 2, 0, 2, 0, 0, 2, 1, 0, 0, 1, 1, 0, 2, 0, 2, 0, 2, 1, 1, 0, 1, 2, 2, 2, 0, 1, 0, 1, 1, 1, 1, 1, 0, 3, 1, 2, 2, 0, 1, 1, 1, 0, 0, 1, 2, 1, 1, 1, 1, 2, 0, 0, 1, 1, 1, 1, 1, 1, 1, 1, 1, 0, 0, 2, 1, 0, 0, 1, 2, 2, 0, 1, 1, 0, 0, 1, 1, 2, 0, 1, 1, 0, 1, 1, 2, 1, 2, 1, 0, 0, 0, 1, 1, 2, 2, 2, 2, 1, 1, 1, 0, 0, 1, 1, 0, 1, 1, 3, 0, 1, 2, 1, 1, 1, 1, 1, 0, 1, 1, 2, 1, 2, 0, 1, 1, 3, 0, 1, 1, 2, 1, 1, 1, 1, 0, 1, 0, 1, 1, 1, 1, 2, 1, 2, 1, 1, 2, 2, 0, 0, 0, 2, 1, 1, 0, 1, 1, 2, 2, 1, 1, 0, 1, 1, 1, 1, 1, 0, 0, 0, 2, 3, 1, 1, 1, 1, 1, 1, 3, 1, 1, 1, 2, 1, 0, 1, 1, 0, 1, 1, 1, 1, 1, 2, 1, 2, 1, 4, 0, 2, 1, 2, 1, 0, 1, 1, 1, 1, 2, 1, 1, 3, 2, 1, 2, 2, 0, 1, 1, 1, 0, 2, 0, 1, 1, 0, 4, 1, 2, 2, 2, 1, 3, 1, 1, 2, 2, 2, 1, 1, 0, 2, 2, 1, 0, 2, 1, 2, 1, 2, 0, 0, 1, 1, 2, 0, 1, 0, 0, 0, 0, 1, 1, 2, 1, 1, 0, 1, 1, 0, 1, 0, 1, 1, 0, 0, 1, 1, 1, 1, 2, 2, 0, 0, 1, 1, 0, 1, 1, 1, 1, 1, 0, 1, 1, 1, 1, 1, 1, 2, 1, 1, 2, 0, 1, 1, 3, 1, 0, 1, 0, 1, 1, 2, 1, 1, 2, 2, 1, 2, 0, 0, 1, 1, 1, 2, 1, 1, 1, 1, 1, 0, 2, 0, 2, 2, 2, 1, 0, 0, 3, 0, 1, 1, 2, 2, 0, 2, 1, 1, 2, 1, 1, 2, 1, 0, 2, 3, 2, 1, 1, 1, 1, 2, 2, 1, 0, 2, 0, 1, 1, 1, 0, 1, 1, 2, 0, 1, 2, 1, 0, 2, 1, 1, 1, 0, 0, 1, 1, 1, 1, 1, 1, 1, 2, 1, 0, 0, 0, 0, 1, 1, 0, 1, 0, 1, 1, 1, 1, 1, 2, 2, 1, 1, 1, 1, 2, 1, 3, 0, 1, 1, 1, 1, 1, 2, 2, 1, 2, 2, 1, 0, 2, 1, 0, 1, 1, 2, 1, 1, 1, 1, 2, 0, 0, 1, 0, 0, 0, 1, 0, 1, 2, 1, 1, 2, 1, 1, 1, 1, 1, 1, 0, 1, 3, 1, 1, 1, 0, 0, 1, 1, 0, 1, 2, 2, 0, 2, 0, 2, 1, 1, 1, 1, 1, 2, 1, 0, 1, 1, 1, 0, 2, 0, 1, 1, 2, 2, 1, 0, 1, 1, 1, 0, 1, 2, 1, 0, 0, 1, 1, 0, 1, 0, 2, 1, 0, 1, 2, 0, 3, 0, 0, 1, 0, 1, 1, 0, 0, 1, 3, 1, 2, 1, 0, 0, 0, 0, 1, 0, 0, 2, 0, 1, 2, 1, 1, 2, 2, 1, 2, 1, 1, 1, 0, 1, 1, 1, 2, 3, 1, 1, 1, 0, 0, 1, 1, 1, 1, 0, 1, 0, 1, 1, 2, 1, 1, 1, 1, 0, 1, 1, 0, 1, 0, 1, 1, 1, 0, 1, 1, 1, 1, 1, 1, 1, 1, 0, 0, 1, 0, 0, 0, 0, 1, 0, 1, 1, 2, 2, 2, 0, 1, 2, 1, 1, 3, 1, 1, 0, 1, 0, 1, 2, 1, 1, 2, 0, 2, 1, 3, 1, 1, 2, 1, 1, 0, 0, 1, 1, 1, 1, 1, 0, 2, 1, 2, 1, 0, 0, 1, 1, 0, 1, 1, 1, 0, 2, 0, 1, 12, 0, 0, 0, 1, 2, 1, 0, 0, 0, 2, 1, 2, 1, 1, 2, 2, 0, 1, 0, 2, 1, 0, 1, 0, 0, 1, 1, 1, 1, 2, 0, 1, 1, 0, 0, 1, 1, 1, 1, 1, 1, 0, 0, 0, 2, 0, 0, 0, 0, 0, 1, 1, 1, 0, 1, 1, 1, 1, 1, 1, 3, 2, 2, 1, 1, 2, 0, 1, 1, 1, 1, 1, 1, 1, 1, 2, 1, 2, 2, 1, 1, 1, 1, 1, 1, 1, 0, 0, 1, 0, 2, 1, 0, 2, 2, 1, 1, 2, 2, 0, 1, 2, 0, 2, 3, 2, 1, 1, 1, 2, 0, 2, 0, 0, 0, 0, 1, 0, 1, 1, 0, 1, 2, 1, 1, 2, 1, 2, 1, 1, 0, 0, 0, 1, 1, 2, 1, 0, 0, 1, 2, 2, 0, 0, 0, 1, 0, 0, 2, 2, 2, 1, 0, 1, 2, 0, 1, 0, 2, 1, 10, 1, 1, 3, 1, 1, 1, 0, 1, 2, 1, 2, 1, 1, 1, 1, 1, 1, 0, 1, 1, 1, 0, 2, 1, 1, 1, 1, 0, 1, 1, 2, 1, 1, 0, 0, 2, 1, 1, 1, 0, 1, 1, 2, 1, 1, 1, 1, 0, 1, 0, 1, 2, 1, 2, 3, 0, 0, 1, 0, 1, 0, 1, 0, 3, 0, 1, 0, 0, 1, 0, 1, 1, 1, 2, 2, 2, 1, 1, 1, 1, 1, 2, 1, 0, 0, 3, 2, 1, 1, 0, 1, 2, 2, 1, 1, 0, 1, 0, 1, 1, 1, 2, 1, 1, 1, 0, 1, 2, 3, 1, 2, 0, 1, 2, 1, 1, 2, 2, 2, 0, 1, 1, 1, 2, 2, 1, 1, 2, 2, 0, 0, 2, 1, 0, 0, 1, 1, 1, 1, 1, 1, 1, 1, 0, 1, 1, 2, 1, 1, 2, 1, 1, 2, 1, 3, 0, 2, 1, 1, 0, 2, 2, 0, 1, 1, 2, 0, 1, 2, 2, 1, 0, 0, 0, 1, 0, 0, 2, 1, 0, 1, 2, 3, 0, 2, 0, 1, 1, 1, 0, 0, 3, 0, 2, 1, 2, 1, 0, 0, 1, 1, 1, 2, 0, 0, 0, 1, 1, 1, 0, 0, 1, 1, 2, 2, 2, 1, 1, 2, 1, 3, 0, 1, 0, 1, 2, 2, 2, 1, 1, 2, 1, 0, 2, 2, 2, 0, 1, 1, 2, 1, 1, 1, 1, 2, 1, 1, 1, 1, 1, 1, 1, 1, 1, 2, 1, 2, 2, 2, 0, 2, 1, 0, 1, 1, 0, 1, 0, 2, 1, 1, 2, 1, 2, 1, 1, 2, 1, 0, 0, 2, 1, 2, 0, 2, 1, 1, 1, 0, 1, 2, 1, 2, 1, 0, 2, 2, 1, 2, 3, 2, 1, 1, 0, 1, 0, 2, 1, 1, 1, 2, 0, 0, 1, 1, 1, 0, 1, 2, 1, 0, 1, 0, 1, 0, 1, 1, 1, 2, 1, 2, 1, 1, 2, 1, 1, 1, 1, 1, 1, 1, 0, 0, 0, 1, 0, 1, 1, 0, 0, 2, 1, 1, 1, 1, 2, 0, 0, 0, 2, 1, 1, 1, 1, 1, 1, 2, 2, 1, 0, 1, 1, 2, 2, 1, 1, 1, 2, 2, 2, 0, 0, 2, 1, 0, 2, 0, 1, 2, 1, 0, 1, 0, 0, 2, 0, 0, 1, 2, 2, 1, 0, 1, 2, 1, 1, 2, 2, 2, 0, 1, 0, 2, 1, 1, 2, 2, 0, 1, 1, 0, 1, 0, 1, 1, 1, 1, 1, 1, 0, 0, 3, 1, 1, 0, 0, 2, 0, 0, 0, 1, 0, 0, 1, 1, 1, 0, 1, 1, 1, 1, 0, 1, 1, 1, 1, 1, 1, 1, 2, 2, 3, 2, 0, 1, 2, 2, 1, 0, 2, 1, 0, 1, 0, 0, 1, 1, 1, 1, 0, 2, 1, 0, 1, 0, 1, 1, 2, 1, 0, 1, 1, 2, 2, 0, 1, 1, 1, 1, 1, 1, 1, 1, 0, 1, 1, 2, 2, 2, 1, 1]\n"
     ]
    },
    {
     "name": "stderr",
     "output_type": "stream",
     "text": [
      "\n"
     ]
    }
   ],
   "source": [
    "best_cc_model = 'mario/cc_model/best_model_{}.zip'.format(best_cc_model_timestep)\n",
    "best_cc_model = PPO.load(best_cc_model)\n",
    "\n",
    "pass_count_cc, coin_count_cc, coin_collected_cc = pass_rate(best_cc_model, plays=3000, world=1, stage=1, version=3, use_coin_collector_env=True)\n",
    "print(pass_count_cc, coin_count_cc, coin_collected_cc)"
   ]
  },
  {
   "cell_type": "code",
   "execution_count": 30,
   "metadata": {},
   "outputs": [
    {
     "name": "stdout",
     "output_type": "stream",
     "text": [
      "state: (1, 84, 84, 4)\n"
     ]
    },
    {
     "name": "stderr",
     "output_type": "stream",
     "text": [
      "100%|██████████| 3000/3000 [1:52:51<00:00,  2.26s/it]  "
     ]
    },
    {
     "name": "stdout",
     "output_type": "stream",
     "text": [
      "0 802\n"
     ]
    },
    {
     "name": "stderr",
     "output_type": "stream",
     "text": [
      "\n"
     ]
    }
   ],
   "source": [
    "best_cc_model = 'mario/cc_model/best_model_{}.zip'.format(best_cc_model_timestep)\n",
    "best_cc_model = PPO.load(best_cc_model)\n",
    "\n",
    "pass_count_cc, coin_count_cc, coin_collected_cc_stage2 = pass_rate(best_cc_model, plays=3000, world=1, stage=2, version=3, use_coin_collector_env=True)\n",
    "print(pass_count_cc, coin_count_cc)"
   ]
  }
 ],
 "metadata": {
  "kernelspec": {
   "display_name": "mario_proj",
   "language": "python",
   "name": "python3"
  },
  "language_info": {
   "codemirror_mode": {
    "name": "ipython",
    "version": 3
   },
   "file_extension": ".py",
   "mimetype": "text/x-python",
   "name": "python",
   "nbconvert_exporter": "python",
   "pygments_lexer": "ipython3",
   "version": "3.8.19"
  }
 },
 "nbformat": 4,
 "nbformat_minor": 2
}
