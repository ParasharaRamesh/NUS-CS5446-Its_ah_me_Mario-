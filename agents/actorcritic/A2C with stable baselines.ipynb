{
 "cells": [
  {
   "cell_type": "markdown",
   "source": [
    "# Things left to do:\n",
    "\n",
    "1. Understand how to see tensorboard realtime\n",
    "2. See if I can make mario render as it is training\n",
    "3. Figure out load the best model and make it play\n",
    "4. Figure out how to record and save the best model\n",
    "5. Make it play in world 1-2\n",
    "6. Get the regular model to train as well perhaps as a separate model\n",
    "7. see what to make of the graphs"
   ],
   "metadata": {
    "collapsed": false
   }
  },
  {
   "cell_type": "markdown",
   "source": [
    "## Importing packages"
   ],
   "metadata": {
    "collapsed": false
   }
  },
  {
   "cell_type": "code",
   "execution_count": 1,
   "metadata": {
    "collapsed": true,
    "ExecuteTime": {
     "end_time": "2024-04-06T13:22:36.326544200Z",
     "start_time": "2024-04-06T13:22:29.228738100Z"
    }
   },
   "outputs": [],
   "source": [
    "#standard packages\n",
    "import gym\n",
    "import numpy as np\n",
    "import matplotlib.pyplot as plt\n",
    "import cv2\n",
    "import torch as th\n",
    "from torch import nn\n",
    "from pathlib import Path\n",
    "import datetime\n",
    "from pytz import timezone\n",
    "import os\n",
    "\n",
    "# mario packages\n",
    "import gym_super_mario_bros\n",
    "from nes_py.wrappers import JoypadSpace\n",
    "from gym_super_mario_bros.actions import *\n",
    "\n",
    "# For custom level\n",
    "from game.environment import create_gym_env_from_level\n",
    "\n",
    "# Import Frame Stacker Wrapper and GrayScaling Wrapper\n",
    "from gym.wrappers import GrayScaleObservation\n",
    "\n",
    "# Import Vectorization Wrappers\n",
    "from stable_baselines3.common.vec_env import VecFrameStack, DummyVecEnv\n",
    "\n",
    "# Import algo\n",
    "from stable_baselines3 import A2C\n",
    "\n",
    "# Import Base Callback for saving models\n",
    "from stable_baselines3.common.callbacks import BaseCallback\n",
    "from stable_baselines3.common.torch_layers import BaseFeaturesExtractor\n",
    "from stable_baselines3.common.vec_env import VecVideoRecorder, SubprocVecEnv, DummyVecEnv"
   ]
  },
  {
   "cell_type": "markdown",
   "source": [
    "## Preprocessing & Defining Environment"
   ],
   "metadata": {
    "collapsed": false
   }
  },
  {
   "cell_type": "markdown",
   "source": [
    "By default, in each frame the game performs an action (a movement) and returns the reward for that action. What happens, is that to train the AI it is not necessary to make a move in each frame. That is why, the function executes the movement every X frames giving less work to do the training."
   ],
   "metadata": {
    "collapsed": false
   }
  },
  {
   "cell_type": "code",
   "execution_count": 2,
   "outputs": [],
   "source": [
    "class SkipFrame(gym.Wrapper):\n",
    "    def __init__(self, env, skip):\n",
    "        super().__init__(env)\n",
    "        self._skip = skip\n",
    "\n",
    "    def step(self, action):\n",
    "        total_reward = 0.0\n",
    "        done = False\n",
    "        for i in range(self._skip):\n",
    "            obs, reward, done, info = self.env.step(action)\n",
    "            total_reward += reward\n",
    "            if done:\n",
    "                break\n",
    "        return obs, total_reward, done, info"
   ],
   "metadata": {
    "collapsed": false,
    "ExecuteTime": {
     "end_time": "2024-04-06T13:22:44.942460200Z",
     "start_time": "2024-04-06T13:22:44.929936900Z"
    }
   }
  },
  {
   "cell_type": "markdown",
   "source": [
    "By default the enviroment is given by 240*256 pixels. In order to optimize our model it is not necessary to have so many pixels and that is why we can rescale our enviroment to a smaller scale."
   ],
   "metadata": {
    "collapsed": false
   }
  },
  {
   "cell_type": "code",
   "execution_count": 3,
   "outputs": [],
   "source": [
    "class ResizeEnv(gym.ObservationWrapper):\n",
    "    def __init__(self, env, size):\n",
    "        gym.ObservationWrapper.__init__(self, env)\n",
    "        (oldh, oldw, oldc) = env.observation_space.shape\n",
    "        newshape = (size, size, oldc)\n",
    "        self.observation_space = gym.spaces.Box(low=0, high=255,\n",
    "            shape=newshape, dtype=np.uint8)\n",
    "\n",
    "    def observation(self, frame):\n",
    "        height, width, _ = self.observation_space.shape\n",
    "        frame = cv2.resize(frame, (width, height), interpolation=cv2.INTER_AREA)\n",
    "        if frame.ndim == 2:\n",
    "            frame = frame[:,:,None]\n",
    "        return frame"
   ],
   "metadata": {
    "collapsed": false,
    "ExecuteTime": {
     "end_time": "2024-04-06T13:22:45.327972500Z",
     "start_time": "2024-04-06T13:22:45.316375Z"
    }
   }
  },
  {
   "cell_type": "markdown",
   "source": [
    "Importing our custom environment function and including all of the processing we define the following function"
   ],
   "metadata": {
    "collapsed": false
   }
  },
  {
   "cell_type": "code",
   "execution_count": 4,
   "outputs": [],
   "source": [
    "def create_mario_env(world, stage, version, use_coin_collector_env):\n",
    "    env = create_gym_env_from_level(world, stage, version, use_coin_collector_env)\n",
    "    env = JoypadSpace(env, COMPLEX_MOVEMENT)\n",
    "    env = SkipFrame(env, skip=4)\n",
    "    env = GrayScaleObservation(env, keep_dim=True)\n",
    "    env = ResizeEnv(env, size=84)\n",
    "    env = DummyVecEnv([lambda: env])\n",
    "    env = VecFrameStack(env, 4, channels_order='last')\n",
    "    return env\n",
    "\n"
   ],
   "metadata": {
    "collapsed": false,
    "ExecuteTime": {
     "end_time": "2024-04-06T13:22:45.699169600Z",
     "start_time": "2024-04-06T13:22:45.688657600Z"
    }
   }
  },
  {
   "cell_type": "code",
   "execution_count": 5,
   "outputs": [
    {
     "name": "stdout",
     "output_type": "stream",
     "text": [
      "Registering Coin Collector CoinCollectorSuperMarioBrosEnv-1-1-v0 in gym for use later on.\n",
      "Successfully registered coin collector env CoinCollectorSuperMarioBrosEnv-1-1-v0!\n",
      "Registering Coin Collector CoinCollectorSuperMarioBrosEnv-1-2-v0 in gym for use later on.\n",
      "Successfully registered coin collector env CoinCollectorSuperMarioBrosEnv-1-2-v0!\n",
      "Registering Coin Collector CoinCollectorSuperMarioBrosEnv-1-3-v0 in gym for use later on.\n",
      "Successfully registered coin collector env CoinCollectorSuperMarioBrosEnv-1-3-v0!\n",
      "Registering Coin Collector CoinCollectorSuperMarioBrosEnv-1-4-v0 in gym for use later on.\n",
      "Successfully registered coin collector env CoinCollectorSuperMarioBrosEnv-1-4-v0!\n",
      "Registering Coin Collector CoinCollectorSuperMarioBrosEnv-2-1-v0 in gym for use later on.\n",
      "Successfully registered coin collector env CoinCollectorSuperMarioBrosEnv-2-1-v0!\n",
      "Registering Coin Collector CoinCollectorSuperMarioBrosEnv-2-2-v0 in gym for use later on.\n",
      "Successfully registered coin collector env CoinCollectorSuperMarioBrosEnv-2-2-v0!\n",
      "Registering Coin Collector CoinCollectorSuperMarioBrosEnv-2-3-v0 in gym for use later on.\n",
      "Successfully registered coin collector env CoinCollectorSuperMarioBrosEnv-2-3-v0!\n",
      "Registering Coin Collector CoinCollectorSuperMarioBrosEnv-2-4-v0 in gym for use later on.\n",
      "Successfully registered coin collector env CoinCollectorSuperMarioBrosEnv-2-4-v0!\n",
      "Registering Coin Collector CoinCollectorSuperMarioBrosEnv-3-1-v0 in gym for use later on.\n",
      "Successfully registered coin collector env CoinCollectorSuperMarioBrosEnv-3-1-v0!\n",
      "Registering Coin Collector CoinCollectorSuperMarioBrosEnv-3-2-v0 in gym for use later on.\n",
      "Successfully registered coin collector env CoinCollectorSuperMarioBrosEnv-3-2-v0!\n",
      "Registering Coin Collector CoinCollectorSuperMarioBrosEnv-3-3-v0 in gym for use later on.\n",
      "Successfully registered coin collector env CoinCollectorSuperMarioBrosEnv-3-3-v0!\n",
      "Registering Coin Collector CoinCollectorSuperMarioBrosEnv-3-4-v0 in gym for use later on.\n",
      "Successfully registered coin collector env CoinCollectorSuperMarioBrosEnv-3-4-v0!\n",
      "Registering Coin Collector CoinCollectorSuperMarioBrosEnv-4-1-v0 in gym for use later on.\n",
      "Successfully registered coin collector env CoinCollectorSuperMarioBrosEnv-4-1-v0!\n",
      "Registering Coin Collector CoinCollectorSuperMarioBrosEnv-4-2-v0 in gym for use later on.\n",
      "Successfully registered coin collector env CoinCollectorSuperMarioBrosEnv-4-2-v0!\n",
      "Registering Coin Collector CoinCollectorSuperMarioBrosEnv-4-3-v0 in gym for use later on.\n",
      "Successfully registered coin collector env CoinCollectorSuperMarioBrosEnv-4-3-v0!\n",
      "Registering Coin Collector CoinCollectorSuperMarioBrosEnv-4-4-v0 in gym for use later on.\n",
      "Successfully registered coin collector env CoinCollectorSuperMarioBrosEnv-4-4-v0!\n",
      "Registering Coin Collector CoinCollectorSuperMarioBrosEnv-5-1-v0 in gym for use later on.\n",
      "Successfully registered coin collector env CoinCollectorSuperMarioBrosEnv-5-1-v0!\n",
      "Registering Coin Collector CoinCollectorSuperMarioBrosEnv-5-2-v0 in gym for use later on.\n",
      "Successfully registered coin collector env CoinCollectorSuperMarioBrosEnv-5-2-v0!\n",
      "Registering Coin Collector CoinCollectorSuperMarioBrosEnv-5-3-v0 in gym for use later on.\n",
      "Successfully registered coin collector env CoinCollectorSuperMarioBrosEnv-5-3-v0!\n",
      "Registering Coin Collector CoinCollectorSuperMarioBrosEnv-5-4-v0 in gym for use later on.\n",
      "Successfully registered coin collector env CoinCollectorSuperMarioBrosEnv-5-4-v0!\n",
      "Registering Coin Collector CoinCollectorSuperMarioBrosEnv-6-1-v0 in gym for use later on.\n",
      "Successfully registered coin collector env CoinCollectorSuperMarioBrosEnv-6-1-v0!\n",
      "Registering Coin Collector CoinCollectorSuperMarioBrosEnv-6-2-v0 in gym for use later on.\n",
      "Successfully registered coin collector env CoinCollectorSuperMarioBrosEnv-6-2-v0!\n",
      "Registering Coin Collector CoinCollectorSuperMarioBrosEnv-6-3-v0 in gym for use later on.\n",
      "Successfully registered coin collector env CoinCollectorSuperMarioBrosEnv-6-3-v0!\n",
      "Registering Coin Collector CoinCollectorSuperMarioBrosEnv-6-4-v0 in gym for use later on.\n",
      "Successfully registered coin collector env CoinCollectorSuperMarioBrosEnv-6-4-v0!\n",
      "Registering Coin Collector CoinCollectorSuperMarioBrosEnv-7-1-v0 in gym for use later on.\n",
      "Successfully registered coin collector env CoinCollectorSuperMarioBrosEnv-7-1-v0!\n",
      "Registering Coin Collector CoinCollectorSuperMarioBrosEnv-7-2-v0 in gym for use later on.\n",
      "Successfully registered coin collector env CoinCollectorSuperMarioBrosEnv-7-2-v0!\n",
      "Registering Coin Collector CoinCollectorSuperMarioBrosEnv-7-3-v0 in gym for use later on.\n",
      "Successfully registered coin collector env CoinCollectorSuperMarioBrosEnv-7-3-v0!\n",
      "Registering Coin Collector CoinCollectorSuperMarioBrosEnv-7-4-v0 in gym for use later on.\n",
      "Successfully registered coin collector env CoinCollectorSuperMarioBrosEnv-7-4-v0!\n",
      "Registering Coin Collector CoinCollectorSuperMarioBrosEnv-8-1-v0 in gym for use later on.\n",
      "Successfully registered coin collector env CoinCollectorSuperMarioBrosEnv-8-1-v0!\n",
      "Registering Coin Collector CoinCollectorSuperMarioBrosEnv-8-2-v0 in gym for use later on.\n",
      "Successfully registered coin collector env CoinCollectorSuperMarioBrosEnv-8-2-v0!\n",
      "Registering Coin Collector CoinCollectorSuperMarioBrosEnv-8-3-v0 in gym for use later on.\n",
      "Successfully registered coin collector env CoinCollectorSuperMarioBrosEnv-8-3-v0!\n",
      "Registering Coin Collector CoinCollectorSuperMarioBrosEnv-8-4-v0 in gym for use later on.\n",
      "Successfully registered coin collector env CoinCollectorSuperMarioBrosEnv-8-4-v0!\n",
      "Registering Coin Collector CoinCollectorSuperMarioBrosEnv-1-1-v1 in gym for use later on.\n",
      "Successfully registered coin collector env CoinCollectorSuperMarioBrosEnv-1-1-v1!\n",
      "Registering Coin Collector CoinCollectorSuperMarioBrosEnv-1-2-v1 in gym for use later on.\n",
      "Successfully registered coin collector env CoinCollectorSuperMarioBrosEnv-1-2-v1!\n",
      "Registering Coin Collector CoinCollectorSuperMarioBrosEnv-1-3-v1 in gym for use later on.\n",
      "Successfully registered coin collector env CoinCollectorSuperMarioBrosEnv-1-3-v1!\n",
      "Registering Coin Collector CoinCollectorSuperMarioBrosEnv-1-4-v1 in gym for use later on.\n",
      "Successfully registered coin collector env CoinCollectorSuperMarioBrosEnv-1-4-v1!\n",
      "Registering Coin Collector CoinCollectorSuperMarioBrosEnv-2-1-v1 in gym for use later on.\n",
      "Successfully registered coin collector env CoinCollectorSuperMarioBrosEnv-2-1-v1!\n",
      "Registering Coin Collector CoinCollectorSuperMarioBrosEnv-2-2-v1 in gym for use later on.\n",
      "Successfully registered coin collector env CoinCollectorSuperMarioBrosEnv-2-2-v1!\n",
      "Registering Coin Collector CoinCollectorSuperMarioBrosEnv-2-3-v1 in gym for use later on.\n",
      "Successfully registered coin collector env CoinCollectorSuperMarioBrosEnv-2-3-v1!\n",
      "Registering Coin Collector CoinCollectorSuperMarioBrosEnv-2-4-v1 in gym for use later on.\n",
      "Successfully registered coin collector env CoinCollectorSuperMarioBrosEnv-2-4-v1!\n",
      "Registering Coin Collector CoinCollectorSuperMarioBrosEnv-3-1-v1 in gym for use later on.\n",
      "Successfully registered coin collector env CoinCollectorSuperMarioBrosEnv-3-1-v1!\n",
      "Registering Coin Collector CoinCollectorSuperMarioBrosEnv-3-2-v1 in gym for use later on.\n",
      "Successfully registered coin collector env CoinCollectorSuperMarioBrosEnv-3-2-v1!\n",
      "Registering Coin Collector CoinCollectorSuperMarioBrosEnv-3-3-v1 in gym for use later on.\n",
      "Successfully registered coin collector env CoinCollectorSuperMarioBrosEnv-3-3-v1!\n",
      "Registering Coin Collector CoinCollectorSuperMarioBrosEnv-3-4-v1 in gym for use later on.\n",
      "Successfully registered coin collector env CoinCollectorSuperMarioBrosEnv-3-4-v1!\n",
      "Registering Coin Collector CoinCollectorSuperMarioBrosEnv-4-1-v1 in gym for use later on.\n",
      "Successfully registered coin collector env CoinCollectorSuperMarioBrosEnv-4-1-v1!\n",
      "Registering Coin Collector CoinCollectorSuperMarioBrosEnv-4-2-v1 in gym for use later on.\n",
      "Successfully registered coin collector env CoinCollectorSuperMarioBrosEnv-4-2-v1!\n",
      "Registering Coin Collector CoinCollectorSuperMarioBrosEnv-4-3-v1 in gym for use later on.\n",
      "Successfully registered coin collector env CoinCollectorSuperMarioBrosEnv-4-3-v1!\n",
      "Registering Coin Collector CoinCollectorSuperMarioBrosEnv-4-4-v1 in gym for use later on.\n",
      "Successfully registered coin collector env CoinCollectorSuperMarioBrosEnv-4-4-v1!\n",
      "Registering Coin Collector CoinCollectorSuperMarioBrosEnv-5-1-v1 in gym for use later on.\n",
      "Successfully registered coin collector env CoinCollectorSuperMarioBrosEnv-5-1-v1!\n",
      "Registering Coin Collector CoinCollectorSuperMarioBrosEnv-5-2-v1 in gym for use later on.\n",
      "Successfully registered coin collector env CoinCollectorSuperMarioBrosEnv-5-2-v1!\n",
      "Registering Coin Collector CoinCollectorSuperMarioBrosEnv-5-3-v1 in gym for use later on.\n",
      "Successfully registered coin collector env CoinCollectorSuperMarioBrosEnv-5-3-v1!\n",
      "Registering Coin Collector CoinCollectorSuperMarioBrosEnv-5-4-v1 in gym for use later on.\n",
      "Successfully registered coin collector env CoinCollectorSuperMarioBrosEnv-5-4-v1!\n",
      "Registering Coin Collector CoinCollectorSuperMarioBrosEnv-6-1-v1 in gym for use later on.\n",
      "Successfully registered coin collector env CoinCollectorSuperMarioBrosEnv-6-1-v1!\n",
      "Registering Coin Collector CoinCollectorSuperMarioBrosEnv-6-2-v1 in gym for use later on.\n",
      "Successfully registered coin collector env CoinCollectorSuperMarioBrosEnv-6-2-v1!\n",
      "Registering Coin Collector CoinCollectorSuperMarioBrosEnv-6-3-v1 in gym for use later on.\n",
      "Successfully registered coin collector env CoinCollectorSuperMarioBrosEnv-6-3-v1!\n",
      "Registering Coin Collector CoinCollectorSuperMarioBrosEnv-6-4-v1 in gym for use later on.\n",
      "Successfully registered coin collector env CoinCollectorSuperMarioBrosEnv-6-4-v1!\n",
      "Registering Coin Collector CoinCollectorSuperMarioBrosEnv-7-1-v1 in gym for use later on.\n",
      "Successfully registered coin collector env CoinCollectorSuperMarioBrosEnv-7-1-v1!\n",
      "Registering Coin Collector CoinCollectorSuperMarioBrosEnv-7-2-v1 in gym for use later on.\n",
      "Successfully registered coin collector env CoinCollectorSuperMarioBrosEnv-7-2-v1!\n",
      "Registering Coin Collector CoinCollectorSuperMarioBrosEnv-7-3-v1 in gym for use later on.\n",
      "Successfully registered coin collector env CoinCollectorSuperMarioBrosEnv-7-3-v1!\n",
      "Registering Coin Collector CoinCollectorSuperMarioBrosEnv-7-4-v1 in gym for use later on.\n",
      "Successfully registered coin collector env CoinCollectorSuperMarioBrosEnv-7-4-v1!\n",
      "Registering Coin Collector CoinCollectorSuperMarioBrosEnv-8-1-v1 in gym for use later on.\n",
      "Successfully registered coin collector env CoinCollectorSuperMarioBrosEnv-8-1-v1!\n",
      "Registering Coin Collector CoinCollectorSuperMarioBrosEnv-8-2-v1 in gym for use later on.\n",
      "Successfully registered coin collector env CoinCollectorSuperMarioBrosEnv-8-2-v1!\n",
      "Registering Coin Collector CoinCollectorSuperMarioBrosEnv-8-3-v1 in gym for use later on.\n",
      "Successfully registered coin collector env CoinCollectorSuperMarioBrosEnv-8-3-v1!\n",
      "Registering Coin Collector CoinCollectorSuperMarioBrosEnv-8-4-v1 in gym for use later on.\n",
      "Successfully registered coin collector env CoinCollectorSuperMarioBrosEnv-8-4-v1!\n",
      "Registering Coin Collector CoinCollectorSuperMarioBrosEnv-1-1-v2 in gym for use later on.\n",
      "Successfully registered coin collector env CoinCollectorSuperMarioBrosEnv-1-1-v2!\n",
      "Registering Coin Collector CoinCollectorSuperMarioBrosEnv-1-2-v2 in gym for use later on.\n",
      "Successfully registered coin collector env CoinCollectorSuperMarioBrosEnv-1-2-v2!\n",
      "Registering Coin Collector CoinCollectorSuperMarioBrosEnv-1-3-v2 in gym for use later on.\n",
      "Successfully registered coin collector env CoinCollectorSuperMarioBrosEnv-1-3-v2!\n",
      "Registering Coin Collector CoinCollectorSuperMarioBrosEnv-1-4-v2 in gym for use later on.\n",
      "Successfully registered coin collector env CoinCollectorSuperMarioBrosEnv-1-4-v2!\n",
      "Registering Coin Collector CoinCollectorSuperMarioBrosEnv-2-1-v2 in gym for use later on.\n",
      "Successfully registered coin collector env CoinCollectorSuperMarioBrosEnv-2-1-v2!\n",
      "Registering Coin Collector CoinCollectorSuperMarioBrosEnv-2-2-v2 in gym for use later on.\n",
      "Successfully registered coin collector env CoinCollectorSuperMarioBrosEnv-2-2-v2!\n",
      "Registering Coin Collector CoinCollectorSuperMarioBrosEnv-2-3-v2 in gym for use later on.\n",
      "Successfully registered coin collector env CoinCollectorSuperMarioBrosEnv-2-3-v2!\n",
      "Registering Coin Collector CoinCollectorSuperMarioBrosEnv-2-4-v2 in gym for use later on.\n",
      "Successfully registered coin collector env CoinCollectorSuperMarioBrosEnv-2-4-v2!\n",
      "Registering Coin Collector CoinCollectorSuperMarioBrosEnv-3-1-v2 in gym for use later on.\n",
      "Successfully registered coin collector env CoinCollectorSuperMarioBrosEnv-3-1-v2!\n",
      "Registering Coin Collector CoinCollectorSuperMarioBrosEnv-3-2-v2 in gym for use later on.\n",
      "Successfully registered coin collector env CoinCollectorSuperMarioBrosEnv-3-2-v2!\n",
      "Registering Coin Collector CoinCollectorSuperMarioBrosEnv-3-3-v2 in gym for use later on.\n",
      "Successfully registered coin collector env CoinCollectorSuperMarioBrosEnv-3-3-v2!\n",
      "Registering Coin Collector CoinCollectorSuperMarioBrosEnv-3-4-v2 in gym for use later on.\n",
      "Successfully registered coin collector env CoinCollectorSuperMarioBrosEnv-3-4-v2!\n",
      "Registering Coin Collector CoinCollectorSuperMarioBrosEnv-4-1-v2 in gym for use later on.\n",
      "Successfully registered coin collector env CoinCollectorSuperMarioBrosEnv-4-1-v2!\n",
      "Registering Coin Collector CoinCollectorSuperMarioBrosEnv-4-2-v2 in gym for use later on.\n",
      "Successfully registered coin collector env CoinCollectorSuperMarioBrosEnv-4-2-v2!\n",
      "Registering Coin Collector CoinCollectorSuperMarioBrosEnv-4-3-v2 in gym for use later on.\n",
      "Successfully registered coin collector env CoinCollectorSuperMarioBrosEnv-4-3-v2!\n",
      "Registering Coin Collector CoinCollectorSuperMarioBrosEnv-4-4-v2 in gym for use later on.\n",
      "Successfully registered coin collector env CoinCollectorSuperMarioBrosEnv-4-4-v2!\n",
      "Registering Coin Collector CoinCollectorSuperMarioBrosEnv-5-1-v2 in gym for use later on.\n",
      "Successfully registered coin collector env CoinCollectorSuperMarioBrosEnv-5-1-v2!\n",
      "Registering Coin Collector CoinCollectorSuperMarioBrosEnv-5-2-v2 in gym for use later on.\n",
      "Successfully registered coin collector env CoinCollectorSuperMarioBrosEnv-5-2-v2!\n",
      "Registering Coin Collector CoinCollectorSuperMarioBrosEnv-5-3-v2 in gym for use later on.\n",
      "Successfully registered coin collector env CoinCollectorSuperMarioBrosEnv-5-3-v2!\n",
      "Registering Coin Collector CoinCollectorSuperMarioBrosEnv-5-4-v2 in gym for use later on.\n",
      "Successfully registered coin collector env CoinCollectorSuperMarioBrosEnv-5-4-v2!\n",
      "Registering Coin Collector CoinCollectorSuperMarioBrosEnv-6-1-v2 in gym for use later on.\n",
      "Successfully registered coin collector env CoinCollectorSuperMarioBrosEnv-6-1-v2!\n",
      "Registering Coin Collector CoinCollectorSuperMarioBrosEnv-6-2-v2 in gym for use later on.\n",
      "Successfully registered coin collector env CoinCollectorSuperMarioBrosEnv-6-2-v2!\n",
      "Registering Coin Collector CoinCollectorSuperMarioBrosEnv-6-3-v2 in gym for use later on.\n",
      "Successfully registered coin collector env CoinCollectorSuperMarioBrosEnv-6-3-v2!\n",
      "Registering Coin Collector CoinCollectorSuperMarioBrosEnv-6-4-v2 in gym for use later on.\n",
      "Successfully registered coin collector env CoinCollectorSuperMarioBrosEnv-6-4-v2!\n",
      "Registering Coin Collector CoinCollectorSuperMarioBrosEnv-7-1-v2 in gym for use later on.\n",
      "Successfully registered coin collector env CoinCollectorSuperMarioBrosEnv-7-1-v2!\n",
      "Registering Coin Collector CoinCollectorSuperMarioBrosEnv-7-2-v2 in gym for use later on.\n",
      "Successfully registered coin collector env CoinCollectorSuperMarioBrosEnv-7-2-v2!\n",
      "Registering Coin Collector CoinCollectorSuperMarioBrosEnv-7-3-v2 in gym for use later on.\n",
      "Successfully registered coin collector env CoinCollectorSuperMarioBrosEnv-7-3-v2!\n",
      "Registering Coin Collector CoinCollectorSuperMarioBrosEnv-7-4-v2 in gym for use later on.\n",
      "Successfully registered coin collector env CoinCollectorSuperMarioBrosEnv-7-4-v2!\n",
      "Registering Coin Collector CoinCollectorSuperMarioBrosEnv-8-1-v2 in gym for use later on.\n",
      "Successfully registered coin collector env CoinCollectorSuperMarioBrosEnv-8-1-v2!\n",
      "Registering Coin Collector CoinCollectorSuperMarioBrosEnv-8-2-v2 in gym for use later on.\n",
      "Successfully registered coin collector env CoinCollectorSuperMarioBrosEnv-8-2-v2!\n",
      "Registering Coin Collector CoinCollectorSuperMarioBrosEnv-8-3-v2 in gym for use later on.\n",
      "Successfully registered coin collector env CoinCollectorSuperMarioBrosEnv-8-3-v2!\n",
      "Registering Coin Collector CoinCollectorSuperMarioBrosEnv-8-4-v2 in gym for use later on.\n",
      "Successfully registered coin collector env CoinCollectorSuperMarioBrosEnv-8-4-v2!\n",
      "Registering Coin Collector CoinCollectorSuperMarioBrosEnv-1-1-v3 in gym for use later on.\n",
      "Successfully registered coin collector env CoinCollectorSuperMarioBrosEnv-1-1-v3!\n",
      "Registering Coin Collector CoinCollectorSuperMarioBrosEnv-1-2-v3 in gym for use later on.\n",
      "Successfully registered coin collector env CoinCollectorSuperMarioBrosEnv-1-2-v3!\n",
      "Registering Coin Collector CoinCollectorSuperMarioBrosEnv-1-3-v3 in gym for use later on.\n",
      "Successfully registered coin collector env CoinCollectorSuperMarioBrosEnv-1-3-v3!\n",
      "Registering Coin Collector CoinCollectorSuperMarioBrosEnv-1-4-v3 in gym for use later on.\n",
      "Successfully registered coin collector env CoinCollectorSuperMarioBrosEnv-1-4-v3!\n",
      "Registering Coin Collector CoinCollectorSuperMarioBrosEnv-2-1-v3 in gym for use later on.\n",
      "Successfully registered coin collector env CoinCollectorSuperMarioBrosEnv-2-1-v3!\n",
      "Registering Coin Collector CoinCollectorSuperMarioBrosEnv-2-2-v3 in gym for use later on.\n",
      "Successfully registered coin collector env CoinCollectorSuperMarioBrosEnv-2-2-v3!\n",
      "Registering Coin Collector CoinCollectorSuperMarioBrosEnv-2-3-v3 in gym for use later on.\n",
      "Successfully registered coin collector env CoinCollectorSuperMarioBrosEnv-2-3-v3!\n",
      "Registering Coin Collector CoinCollectorSuperMarioBrosEnv-2-4-v3 in gym for use later on.\n",
      "Successfully registered coin collector env CoinCollectorSuperMarioBrosEnv-2-4-v3!\n",
      "Registering Coin Collector CoinCollectorSuperMarioBrosEnv-3-1-v3 in gym for use later on.\n",
      "Successfully registered coin collector env CoinCollectorSuperMarioBrosEnv-3-1-v3!\n",
      "Registering Coin Collector CoinCollectorSuperMarioBrosEnv-3-2-v3 in gym for use later on.\n",
      "Successfully registered coin collector env CoinCollectorSuperMarioBrosEnv-3-2-v3!\n",
      "Registering Coin Collector CoinCollectorSuperMarioBrosEnv-3-3-v3 in gym for use later on.\n",
      "Successfully registered coin collector env CoinCollectorSuperMarioBrosEnv-3-3-v3!\n",
      "Registering Coin Collector CoinCollectorSuperMarioBrosEnv-3-4-v3 in gym for use later on.\n",
      "Successfully registered coin collector env CoinCollectorSuperMarioBrosEnv-3-4-v3!\n",
      "Registering Coin Collector CoinCollectorSuperMarioBrosEnv-4-1-v3 in gym for use later on.\n",
      "Successfully registered coin collector env CoinCollectorSuperMarioBrosEnv-4-1-v3!\n",
      "Registering Coin Collector CoinCollectorSuperMarioBrosEnv-4-2-v3 in gym for use later on.\n",
      "Successfully registered coin collector env CoinCollectorSuperMarioBrosEnv-4-2-v3!\n",
      "Registering Coin Collector CoinCollectorSuperMarioBrosEnv-4-3-v3 in gym for use later on.\n",
      "Successfully registered coin collector env CoinCollectorSuperMarioBrosEnv-4-3-v3!\n",
      "Registering Coin Collector CoinCollectorSuperMarioBrosEnv-4-4-v3 in gym for use later on.\n",
      "Successfully registered coin collector env CoinCollectorSuperMarioBrosEnv-4-4-v3!\n",
      "Registering Coin Collector CoinCollectorSuperMarioBrosEnv-5-1-v3 in gym for use later on.\n",
      "Successfully registered coin collector env CoinCollectorSuperMarioBrosEnv-5-1-v3!\n",
      "Registering Coin Collector CoinCollectorSuperMarioBrosEnv-5-2-v3 in gym for use later on.\n",
      "Successfully registered coin collector env CoinCollectorSuperMarioBrosEnv-5-2-v3!\n",
      "Registering Coin Collector CoinCollectorSuperMarioBrosEnv-5-3-v3 in gym for use later on.\n",
      "Successfully registered coin collector env CoinCollectorSuperMarioBrosEnv-5-3-v3!\n",
      "Registering Coin Collector CoinCollectorSuperMarioBrosEnv-5-4-v3 in gym for use later on.\n",
      "Successfully registered coin collector env CoinCollectorSuperMarioBrosEnv-5-4-v3!\n",
      "Registering Coin Collector CoinCollectorSuperMarioBrosEnv-6-1-v3 in gym for use later on.\n",
      "Successfully registered coin collector env CoinCollectorSuperMarioBrosEnv-6-1-v3!\n",
      "Registering Coin Collector CoinCollectorSuperMarioBrosEnv-6-2-v3 in gym for use later on.\n",
      "Successfully registered coin collector env CoinCollectorSuperMarioBrosEnv-6-2-v3!\n",
      "Registering Coin Collector CoinCollectorSuperMarioBrosEnv-6-3-v3 in gym for use later on.\n",
      "Successfully registered coin collector env CoinCollectorSuperMarioBrosEnv-6-3-v3!\n",
      "Registering Coin Collector CoinCollectorSuperMarioBrosEnv-6-4-v3 in gym for use later on.\n",
      "Successfully registered coin collector env CoinCollectorSuperMarioBrosEnv-6-4-v3!\n",
      "Registering Coin Collector CoinCollectorSuperMarioBrosEnv-7-1-v3 in gym for use later on.\n",
      "Successfully registered coin collector env CoinCollectorSuperMarioBrosEnv-7-1-v3!\n",
      "Registering Coin Collector CoinCollectorSuperMarioBrosEnv-7-2-v3 in gym for use later on.\n",
      "Successfully registered coin collector env CoinCollectorSuperMarioBrosEnv-7-2-v3!\n",
      "Registering Coin Collector CoinCollectorSuperMarioBrosEnv-7-3-v3 in gym for use later on.\n",
      "Successfully registered coin collector env CoinCollectorSuperMarioBrosEnv-7-3-v3!\n",
      "Registering Coin Collector CoinCollectorSuperMarioBrosEnv-7-4-v3 in gym for use later on.\n",
      "Successfully registered coin collector env CoinCollectorSuperMarioBrosEnv-7-4-v3!\n",
      "Registering Coin Collector CoinCollectorSuperMarioBrosEnv-8-1-v3 in gym for use later on.\n",
      "Successfully registered coin collector env CoinCollectorSuperMarioBrosEnv-8-1-v3!\n",
      "Registering Coin Collector CoinCollectorSuperMarioBrosEnv-8-2-v3 in gym for use later on.\n",
      "Successfully registered coin collector env CoinCollectorSuperMarioBrosEnv-8-2-v3!\n",
      "Registering Coin Collector CoinCollectorSuperMarioBrosEnv-8-3-v3 in gym for use later on.\n",
      "Successfully registered coin collector env CoinCollectorSuperMarioBrosEnv-8-3-v3!\n",
      "Registering Coin Collector CoinCollectorSuperMarioBrosEnv-8-4-v3 in gym for use later on.\n",
      "Successfully registered coin collector env CoinCollectorSuperMarioBrosEnv-8-4-v3!\n"
     ]
    }
   ],
   "source": [
    "# <world> is a number in {1, 2, 3, 4, 5, 6, 7, 8} indicating the world\n",
    "world = 1\n",
    "# <stage> is a number in {1, 2, 3, 4} indicating the stage within a world\n",
    "stage = 1\n",
    "version = 3\n",
    "use_coin_collector_env = True\n",
    "\n",
    "env = create_mario_env(world, stage, version, use_coin_collector_env)"
   ],
   "metadata": {
    "collapsed": false,
    "ExecuteTime": {
     "end_time": "2024-04-06T13:22:46.199755700Z",
     "start_time": "2024-04-06T13:22:45.887197400Z"
    }
   }
  },
  {
   "cell_type": "code",
   "execution_count": 6,
   "outputs": [
    {
     "name": "stdout",
     "output_type": "stream",
     "text": [
      "state: (1, 84, 84, 4)\n"
     ]
    }
   ],
   "source": [
    "env.reset()\n",
    "state, reward, done, info = env.step([0])\n",
    "print('state:', state.shape) #Color scale, height, width, num of stacks"
   ],
   "metadata": {
    "collapsed": false,
    "ExecuteTime": {
     "end_time": "2024-04-06T13:22:46.257962Z",
     "start_time": "2024-04-06T13:22:46.201755900Z"
    }
   }
  },
  {
   "cell_type": "markdown",
   "source": [
    "## Model Training"
   ],
   "metadata": {
    "collapsed": false
   }
  },
  {
   "cell_type": "markdown",
   "source": [
    "Model parameters"
   ],
   "metadata": {
    "collapsed": false
   }
  },
  {
   "cell_type": "markdown",
   "source": [
    "Model"
   ],
   "metadata": {
    "collapsed": false
   }
  },
  {
   "cell_type": "code",
   "execution_count": 7,
   "outputs": [],
   "source": [
    "class MarioNet(BaseFeaturesExtractor):\n",
    "    def __init__(self, observation_space: gym.spaces.Box, features_dim):\n",
    "        super(MarioNet, self).__init__(observation_space, features_dim)\n",
    "        n_input_channels = observation_space.shape[0]\n",
    "        self.cnn = nn.Sequential(\n",
    "            nn.Conv2d(n_input_channels, 32, kernel_size=3, stride=2, padding=1),\n",
    "            nn.ReLU(),\n",
    "            nn.Conv2d(32, 32, kernel_size=3, stride=2, padding=1),\n",
    "            nn.ReLU(),\n",
    "            nn.Conv2d(32, 32, kernel_size=3, stride=2, padding=1),\n",
    "            nn.ReLU(),\n",
    "            nn.Conv2d(32, 32, kernel_size=3, stride=2, padding=1),\n",
    "            nn.ReLU(),\n",
    "            nn.Flatten(),\n",
    "        )\n",
    "\n",
    "        # Compute shape by doing one forward pass\n",
    "        with th.no_grad():\n",
    "            n_flatten = self.cnn(th.as_tensor(observation_space.sample()[None]).float()).shape[1]\n",
    "\n",
    "        self.linear = nn.Sequential(nn.Linear(n_flatten, features_dim), nn.ReLU())\n",
    "\n",
    "    def forward(self, observations: th.Tensor) -> th.Tensor:\n",
    "        return self.linear(self.cnn(observations))\n",
    "\n",
    "policy_kwargs = dict(\n",
    "    features_extractor_class=MarioNet,\n",
    "    features_extractor_kwargs=dict(features_dim=512),\n",
    ")"
   ],
   "metadata": {
    "collapsed": false,
    "ExecuteTime": {
     "end_time": "2024-04-06T13:22:47.976350900Z",
     "start_time": "2024-04-06T13:22:47.955244500Z"
    }
   }
  },
  {
   "cell_type": "markdown",
   "source": [
    "The next step consists of the creation of a file where the AI will save the results obtained in each iteration. In this way, later we will be able to visualize graphically the learning of our model.\n",
    "\n",
    "In this case, the average score, the average starting time and the best score obtained will be saved for each iteration."
   ],
   "metadata": {
    "collapsed": false
   }
  },
  {
   "cell_type": "code",
   "execution_count": 23,
   "outputs": [],
   "source": [
    "# Get the absolute path of the current directory\n",
    "current_dir = os.path.abspath(os.path.dirname(\".\"))\n",
    "\n",
    "# Define the directory name\n",
    "dir_name = 'model'\n",
    "\n",
    "# Combine the current directory path with the directory name\n",
    "save_dir = os.path.join(current_dir, dir_name)\n",
    "\n",
    "# Create the directory if it doesn't exist\n",
    "if not os.path.exists(save_dir):\n",
    "    os.makedirs(save_dir)"
   ],
   "metadata": {
    "collapsed": false,
    "ExecuteTime": {
     "end_time": "2024-04-06T13:28:36.462365Z",
     "start_time": "2024-04-06T13:28:36.446678600Z"
    }
   }
  },
  {
   "cell_type": "code",
   "execution_count": 24,
   "outputs": [
    {
     "data": {
      "text/plain": "'C:\\\\Parashara\\\\Projects\\\\NUS projects\\\\Sem2\\\\its_ah_me_mario\\\\agents\\\\actorcritic\\\\model'"
     },
     "execution_count": 24,
     "metadata": {},
     "output_type": "execute_result"
    }
   ],
   "source": [
    "save_dir"
   ],
   "metadata": {
    "collapsed": false,
    "ExecuteTime": {
     "end_time": "2024-04-06T13:28:38.174463100Z",
     "start_time": "2024-04-06T13:28:38.152908500Z"
    }
   }
  },
  {
   "cell_type": "code",
   "execution_count": 1,
   "outputs": [
    {
     "ename": "NameError",
     "evalue": "name 'os' is not defined",
     "output_type": "error",
     "traceback": [
      "\u001B[1;31m---------------------------------------------------------------------------\u001B[0m",
      "\u001B[1;31mNameError\u001B[0m                                 Traceback (most recent call last)",
      "Cell \u001B[1;32mIn[1], line 1\u001B[0m\n\u001B[1;32m----> 1\u001B[0m reward_log_path \u001B[38;5;241m=\u001B[39m \u001B[43mos\u001B[49m\u001B[38;5;241m.\u001B[39mpath\u001B[38;5;241m.\u001B[39mjoin(save_dir,\u001B[38;5;124m'\u001B[39m\u001B[38;5;124mreward_log.csv\u001B[39m\u001B[38;5;124m'\u001B[39m)\n\u001B[0;32m      3\u001B[0m \u001B[38;5;28;01mwith\u001B[39;00m \u001B[38;5;28mopen\u001B[39m(reward_log_path, \u001B[38;5;124m'\u001B[39m\u001B[38;5;124ma\u001B[39m\u001B[38;5;124m'\u001B[39m) \u001B[38;5;28;01mas\u001B[39;00m f:\n\u001B[0;32m      4\u001B[0m     \u001B[38;5;28mprint\u001B[39m(\u001B[38;5;124m'\u001B[39m\u001B[38;5;124mtimesteps,reward,best_reward\u001B[39m\u001B[38;5;124m'\u001B[39m, file\u001B[38;5;241m=\u001B[39mf)\n",
      "\u001B[1;31mNameError\u001B[0m: name 'os' is not defined"
     ]
    }
   ],
   "source": [
    "reward_log_path = os.path.join(save_dir,'reward_log.csv')\n",
    "\n",
    "with open(reward_log_path, 'a') as f:\n",
    "    print('timesteps,reward,best_reward', file=f)"
   ],
   "metadata": {
    "collapsed": false,
    "ExecuteTime": {
     "end_time": "2024-04-06T14:07:59.175026Z",
     "start_time": "2024-04-06T14:07:58.537075500Z"
    }
   }
  },
  {
   "cell_type": "markdown",
   "source": [
    "This callback function will be in charge of writing the aforementioned data to the file. This function will be executed automatically each time an iteration has been completed."
   ],
   "metadata": {
    "collapsed": false
   }
  },
  {
   "cell_type": "code",
   "execution_count": 27,
   "outputs": [],
   "source": [
    "class TrainAndLoggingCallback(BaseCallback):\n",
    "    def __init__(self, check_freq, save_path, verbose=1):\n",
    "        super(TrainAndLoggingCallback, self).__init__(verbose)\n",
    "        self.check_freq = check_freq\n",
    "        self.save_path = save_path\n",
    "\n",
    "    def _init_callback(self):\n",
    "        if self.save_path is not None:\n",
    "            os.makedirs(self.save_path, exist_ok=True)\n",
    "\n",
    "    def _on_step(self):\n",
    "        if self.n_calls % self.check_freq == 0:\n",
    "            model_path = os.path.join(save_dir, f'best_model_{self.n_calls}')\n",
    "            self.model.save(model_path)\n",
    "\n",
    "            total_reward = [0] * EPISODE_NUMBERS\n",
    "            total_time = [0] * EPISODE_NUMBERS\n",
    "            best_reward = 0\n",
    "\n",
    "            for i in range(EPISODE_NUMBERS):\n",
    "                state = env.reset()  # reset for each new trial\n",
    "                done = False\n",
    "                total_reward[i] = 0\n",
    "                total_time[i] = 0\n",
    "                while not done and total_time[i] < MAX_TIMESTEP_TEST:\n",
    "                    action, _ = model.predict(state)\n",
    "                    state, reward, done, info = env.step(action)\n",
    "\n",
    "                    # This should render it\n",
    "                    # env.render()\n",
    "\n",
    "                    total_reward[i] += reward[0]\n",
    "                    total_time[i] += 1\n",
    "\n",
    "                if total_reward[i] > best_reward:\n",
    "                    best_reward = total_reward[i]\n",
    "                    best_epoch = self.n_calls\n",
    "\n",
    "                state = env.reset()  # reset for each new trial\n",
    "\n",
    "            print('time steps:', self.n_calls, '/', TOTAL_TIMESTEP_NUMB)\n",
    "            print('average reward:', (sum(total_reward) / EPISODE_NUMBERS),\n",
    "                  'average time:', (sum(total_time) / EPISODE_NUMBERS),\n",
    "                  'best_reward:', best_reward)\n",
    "\n",
    "            with open(reward_log_path, 'a') as f:\n",
    "                print(self.n_calls, ',', sum(total_reward) / EPISODE_NUMBERS, ',', best_reward, file=f)\n",
    "\n",
    "        return True"
   ],
   "metadata": {
    "collapsed": false,
    "ExecuteTime": {
     "end_time": "2024-04-06T13:28:58.639528800Z",
     "start_time": "2024-04-06T13:28:58.619641200Z"
    }
   }
  },
  {
   "cell_type": "code",
   "execution_count": 29,
   "outputs": [],
   "source": [
    "# Model Param\n",
    "# CHECK_FREQ_NUMB = 10000\n",
    "CHECK_FREQ_NUMB = 1000\n",
    "TOTAL_TIMESTEP_NUMB = 5000000\n",
    "LEARNING_RATE = 0.0001\n",
    "GAE = 1.0\n",
    "ENT_COEF = 0.01\n",
    "N_STEPS = 512\n",
    "GAMMA = 0.9\n",
    "BATCH_SIZE = 64\n",
    "N_EPOCHS = 10\n",
    "\n",
    "# Test Param\n",
    "EPISODE_NUMBERS = 20\n",
    "MAX_TIMESTEP_TEST = 1000"
   ],
   "metadata": {
    "collapsed": false,
    "ExecuteTime": {
     "end_time": "2024-04-06T13:29:12.009528100Z",
     "start_time": "2024-04-06T13:29:11.995436Z"
    }
   }
  },
  {
   "cell_type": "code",
   "execution_count": 30,
   "outputs": [],
   "source": [
    "callback = TrainAndLoggingCallback(check_freq=CHECK_FREQ_NUMB, save_path=save_dir)"
   ],
   "metadata": {
    "collapsed": false,
    "ExecuteTime": {
     "end_time": "2024-04-06T13:29:12.964782Z",
     "start_time": "2024-04-06T13:29:12.939120900Z"
    }
   }
  },
  {
   "cell_type": "markdown",
   "source": [
    "## Model Training"
   ],
   "metadata": {
    "collapsed": false
   }
  },
  {
   "cell_type": "code",
   "execution_count": 37,
   "outputs": [
    {
     "name": "stdout",
     "output_type": "stream",
     "text": [
      "Using cuda device\n",
      "Wrapping the env in a VecTransposeImage.\n"
     ]
    }
   ],
   "source": [
    "model = A2C('CnnPolicy', env, verbose=2, policy_kwargs=policy_kwargs, tensorboard_log=save_dir,\n",
    "            learning_rate=LEARNING_RATE, n_steps=N_STEPS, gamma=GAMMA, gae_lambda=GAE,\n",
    "            ent_coef=ENT_COEF)"
   ],
   "metadata": {
    "collapsed": false,
    "ExecuteTime": {
     "end_time": "2024-04-06T14:06:43.350249300Z",
     "start_time": "2024-04-06T14:06:43.202535900Z"
    }
   }
  },
  {
   "cell_type": "code",
   "execution_count": 36,
   "outputs": [
    {
     "ename": "AttributeError",
     "evalue": "'NoneType' object has no attribute 'reset'",
     "output_type": "error",
     "traceback": [
      "\u001B[1;31m---------------------------------------------------------------------------\u001B[0m",
      "\u001B[1;31mAttributeError\u001B[0m                            Traceback (most recent call last)",
      "Cell \u001B[1;32mIn[36], line 1\u001B[0m\n\u001B[1;32m----> 1\u001B[0m \u001B[43mmodel\u001B[49m\u001B[38;5;241;43m.\u001B[39;49m\u001B[43mlearn\u001B[49m\u001B[43m(\u001B[49m\u001B[43mtotal_timesteps\u001B[49m\u001B[38;5;241;43m=\u001B[39;49m\u001B[43mTOTAL_TIMESTEP_NUMB\u001B[49m\u001B[43m,\u001B[49m\u001B[43m \u001B[49m\u001B[43mcallback\u001B[49m\u001B[38;5;241;43m=\u001B[39;49m\u001B[43mcallback\u001B[49m\u001B[43m,\u001B[49m\u001B[43m \u001B[49m\u001B[43mlog_interval\u001B[49m\u001B[38;5;241;43m=\u001B[39;49m\u001B[38;5;241;43m1\u001B[39;49m\u001B[43m)\u001B[49m\n",
      "File \u001B[1;32m~\\anaconda3\\envs\\mario-baselines\\lib\\site-packages\\stable_baselines3\\a2c\\a2c.py:197\u001B[0m, in \u001B[0;36mA2C.learn\u001B[1;34m(self, total_timesteps, callback, log_interval, eval_env, eval_freq, n_eval_episodes, tb_log_name, eval_log_path, reset_num_timesteps)\u001B[0m\n\u001B[0;32m    184\u001B[0m \u001B[38;5;28;01mdef\u001B[39;00m \u001B[38;5;21mlearn\u001B[39m(\n\u001B[0;32m    185\u001B[0m     \u001B[38;5;28mself\u001B[39m,\n\u001B[0;32m    186\u001B[0m     total_timesteps: \u001B[38;5;28mint\u001B[39m,\n\u001B[1;32m   (...)\u001B[0m\n\u001B[0;32m    194\u001B[0m     reset_num_timesteps: \u001B[38;5;28mbool\u001B[39m \u001B[38;5;241m=\u001B[39m \u001B[38;5;28;01mTrue\u001B[39;00m,\n\u001B[0;32m    195\u001B[0m ) \u001B[38;5;241m-\u001B[39m\u001B[38;5;241m>\u001B[39m \u001B[38;5;124m\"\u001B[39m\u001B[38;5;124mA2C\u001B[39m\u001B[38;5;124m\"\u001B[39m:\n\u001B[1;32m--> 197\u001B[0m     \u001B[38;5;28;01mreturn\u001B[39;00m \u001B[38;5;28;43msuper\u001B[39;49m\u001B[43m(\u001B[49m\u001B[43m)\u001B[49m\u001B[38;5;241;43m.\u001B[39;49m\u001B[43mlearn\u001B[49m\u001B[43m(\u001B[49m\n\u001B[0;32m    198\u001B[0m \u001B[43m        \u001B[49m\u001B[43mtotal_timesteps\u001B[49m\u001B[38;5;241;43m=\u001B[39;49m\u001B[43mtotal_timesteps\u001B[49m\u001B[43m,\u001B[49m\n\u001B[0;32m    199\u001B[0m \u001B[43m        \u001B[49m\u001B[43mcallback\u001B[49m\u001B[38;5;241;43m=\u001B[39;49m\u001B[43mcallback\u001B[49m\u001B[43m,\u001B[49m\n\u001B[0;32m    200\u001B[0m \u001B[43m        \u001B[49m\u001B[43mlog_interval\u001B[49m\u001B[38;5;241;43m=\u001B[39;49m\u001B[43mlog_interval\u001B[49m\u001B[43m,\u001B[49m\n\u001B[0;32m    201\u001B[0m \u001B[43m        \u001B[49m\u001B[43meval_env\u001B[49m\u001B[38;5;241;43m=\u001B[39;49m\u001B[43meval_env\u001B[49m\u001B[43m,\u001B[49m\n\u001B[0;32m    202\u001B[0m \u001B[43m        \u001B[49m\u001B[43meval_freq\u001B[49m\u001B[38;5;241;43m=\u001B[39;49m\u001B[43meval_freq\u001B[49m\u001B[43m,\u001B[49m\n\u001B[0;32m    203\u001B[0m \u001B[43m        \u001B[49m\u001B[43mn_eval_episodes\u001B[49m\u001B[38;5;241;43m=\u001B[39;49m\u001B[43mn_eval_episodes\u001B[49m\u001B[43m,\u001B[49m\n\u001B[0;32m    204\u001B[0m \u001B[43m        \u001B[49m\u001B[43mtb_log_name\u001B[49m\u001B[38;5;241;43m=\u001B[39;49m\u001B[43mtb_log_name\u001B[49m\u001B[43m,\u001B[49m\n\u001B[0;32m    205\u001B[0m \u001B[43m        \u001B[49m\u001B[43meval_log_path\u001B[49m\u001B[38;5;241;43m=\u001B[39;49m\u001B[43meval_log_path\u001B[49m\u001B[43m,\u001B[49m\n\u001B[0;32m    206\u001B[0m \u001B[43m        \u001B[49m\u001B[43mreset_num_timesteps\u001B[49m\u001B[38;5;241;43m=\u001B[39;49m\u001B[43mreset_num_timesteps\u001B[49m\u001B[43m,\u001B[49m\n\u001B[0;32m    207\u001B[0m \u001B[43m    \u001B[49m\u001B[43m)\u001B[49m\n",
      "File \u001B[1;32m~\\anaconda3\\envs\\mario-baselines\\lib\\site-packages\\stable_baselines3\\common\\on_policy_algorithm.py:239\u001B[0m, in \u001B[0;36mOnPolicyAlgorithm.learn\u001B[1;34m(self, total_timesteps, callback, log_interval, eval_env, eval_freq, n_eval_episodes, tb_log_name, eval_log_path, reset_num_timesteps)\u001B[0m\n\u001B[0;32m    225\u001B[0m \u001B[38;5;28;01mdef\u001B[39;00m \u001B[38;5;21mlearn\u001B[39m(\n\u001B[0;32m    226\u001B[0m     \u001B[38;5;28mself\u001B[39m,\n\u001B[0;32m    227\u001B[0m     total_timesteps: \u001B[38;5;28mint\u001B[39m,\n\u001B[1;32m   (...)\u001B[0m\n\u001B[0;32m    235\u001B[0m     reset_num_timesteps: \u001B[38;5;28mbool\u001B[39m \u001B[38;5;241m=\u001B[39m \u001B[38;5;28;01mTrue\u001B[39;00m,\n\u001B[0;32m    236\u001B[0m ) \u001B[38;5;241m-\u001B[39m\u001B[38;5;241m>\u001B[39m \u001B[38;5;124m\"\u001B[39m\u001B[38;5;124mOnPolicyAlgorithm\u001B[39m\u001B[38;5;124m\"\u001B[39m:\n\u001B[0;32m    237\u001B[0m     iteration \u001B[38;5;241m=\u001B[39m \u001B[38;5;241m0\u001B[39m\n\u001B[1;32m--> 239\u001B[0m     total_timesteps, callback \u001B[38;5;241m=\u001B[39m \u001B[38;5;28;43mself\u001B[39;49m\u001B[38;5;241;43m.\u001B[39;49m\u001B[43m_setup_learn\u001B[49m\u001B[43m(\u001B[49m\n\u001B[0;32m    240\u001B[0m \u001B[43m        \u001B[49m\u001B[43mtotal_timesteps\u001B[49m\u001B[43m,\u001B[49m\u001B[43m \u001B[49m\u001B[43meval_env\u001B[49m\u001B[43m,\u001B[49m\u001B[43m \u001B[49m\u001B[43mcallback\u001B[49m\u001B[43m,\u001B[49m\u001B[43m \u001B[49m\u001B[43meval_freq\u001B[49m\u001B[43m,\u001B[49m\u001B[43m \u001B[49m\u001B[43mn_eval_episodes\u001B[49m\u001B[43m,\u001B[49m\u001B[43m \u001B[49m\u001B[43meval_log_path\u001B[49m\u001B[43m,\u001B[49m\u001B[43m \u001B[49m\u001B[43mreset_num_timesteps\u001B[49m\u001B[43m,\u001B[49m\u001B[43m \u001B[49m\u001B[43mtb_log_name\u001B[49m\n\u001B[0;32m    241\u001B[0m \u001B[43m    \u001B[49m\u001B[43m)\u001B[49m\n\u001B[0;32m    243\u001B[0m     callback\u001B[38;5;241m.\u001B[39mon_training_start(\u001B[38;5;28mlocals\u001B[39m(), \u001B[38;5;28mglobals\u001B[39m())\n\u001B[0;32m    245\u001B[0m     \u001B[38;5;28;01mwhile\u001B[39;00m \u001B[38;5;28mself\u001B[39m\u001B[38;5;241m.\u001B[39mnum_timesteps \u001B[38;5;241m<\u001B[39m total_timesteps:\n",
      "File \u001B[1;32m~\\anaconda3\\envs\\mario-baselines\\lib\\site-packages\\stable_baselines3\\common\\base_class.py:446\u001B[0m, in \u001B[0;36mBaseAlgorithm._setup_learn\u001B[1;34m(self, total_timesteps, eval_env, callback, eval_freq, n_eval_episodes, log_path, reset_num_timesteps, tb_log_name)\u001B[0m\n\u001B[0;32m    444\u001B[0m \u001B[38;5;66;03m# Avoid resetting the environment when calling ``.learn()`` consecutive times\u001B[39;00m\n\u001B[0;32m    445\u001B[0m \u001B[38;5;28;01mif\u001B[39;00m reset_num_timesteps \u001B[38;5;129;01mor\u001B[39;00m \u001B[38;5;28mself\u001B[39m\u001B[38;5;241m.\u001B[39m_last_obs \u001B[38;5;129;01mis\u001B[39;00m \u001B[38;5;28;01mNone\u001B[39;00m:\n\u001B[1;32m--> 446\u001B[0m     \u001B[38;5;28mself\u001B[39m\u001B[38;5;241m.\u001B[39m_last_obs \u001B[38;5;241m=\u001B[39m \u001B[38;5;28;43mself\u001B[39;49m\u001B[38;5;241;43m.\u001B[39;49m\u001B[43menv\u001B[49m\u001B[38;5;241;43m.\u001B[39;49m\u001B[43mreset\u001B[49m()  \u001B[38;5;66;03m# pytype: disable=annotation-type-mismatch\u001B[39;00m\n\u001B[0;32m    447\u001B[0m     \u001B[38;5;28mself\u001B[39m\u001B[38;5;241m.\u001B[39m_last_episode_starts \u001B[38;5;241m=\u001B[39m np\u001B[38;5;241m.\u001B[39mones((\u001B[38;5;28mself\u001B[39m\u001B[38;5;241m.\u001B[39menv\u001B[38;5;241m.\u001B[39mnum_envs,), dtype\u001B[38;5;241m=\u001B[39m\u001B[38;5;28mbool\u001B[39m)\n\u001B[0;32m    448\u001B[0m     \u001B[38;5;66;03m# Retrieve unnormalized observation for saving into the buffer\u001B[39;00m\n",
      "\u001B[1;31mAttributeError\u001B[0m: 'NoneType' object has no attribute 'reset'"
     ]
    }
   ],
   "source": [
    "model.learn(total_timesteps=TOTAL_TIMESTEP_NUMB, callback=callback, log_interval=1)"
   ],
   "metadata": {
    "collapsed": false,
    "ExecuteTime": {
     "end_time": "2024-04-06T14:06:29.481324300Z",
     "start_time": "2024-04-06T14:06:29.015942600Z"
    }
   }
  },
  {
   "cell_type": "markdown",
   "source": [
    "## Model testing"
   ],
   "metadata": {
    "collapsed": false
   }
  },
  {
   "cell_type": "markdown",
   "source": [
    "To get the best epoch we would need to check the graph and see the best epoch from there"
   ],
   "metadata": {
    "collapsed": false
   }
  },
  {
   "cell_type": "code",
   "execution_count": 33,
   "outputs": [],
   "source": [
    "best_epoch = 5000"
   ],
   "metadata": {
    "collapsed": false,
    "ExecuteTime": {
     "end_time": "2024-04-06T14:02:57.711204100Z",
     "start_time": "2024-04-06T14:02:57.694567800Z"
    }
   }
  },
  {
   "cell_type": "code",
   "execution_count": 34,
   "outputs": [],
   "source": [
    "best_model_path = os.path.join(save_dir, 'best_model_{}'.format(best_epoch))\n",
    "model = A2C.load(best_model_path)\n"
   ],
   "metadata": {
    "collapsed": false,
    "ExecuteTime": {
     "end_time": "2024-04-06T14:02:59.326045200Z",
     "start_time": "2024-04-06T14:02:59.123658200Z"
    }
   }
  },
  {
   "cell_type": "code",
   "execution_count": 35,
   "outputs": [
    {
     "name": "stderr",
     "output_type": "stream",
     "text": [
      "C:\\Users\\paras\\anaconda3\\envs\\mario-baselines\\lib\\site-packages\\pyglet\\image\\codecs\\wic.py:289: UserWarning: [WinError -2147417850] Cannot change thread mode after it is set\n",
      "  warnings.warn(str(err))\n",
      "\n",
      "KeyboardInterrupt\n",
      "\n"
     ]
    }
   ],
   "source": [
    "state = env.reset()\n",
    "done = True\n",
    "plays = 0;\n",
    "wins = 0;\n",
    "while plays < 100:\n",
    "    if done:\n",
    "        state = env.reset()\n",
    "        if info[0][\"flag_get\"]:\n",
    "          wins += 1\n",
    "        plays += 1\n",
    "    action, _ = model.predict(state)\n",
    "    state, reward, done, info = env.step(action)\n",
    "    env.render()\n",
    "print(\"Model win rate: \" + str(wins) + \"%\")"
   ],
   "metadata": {
    "collapsed": false,
    "ExecuteTime": {
     "end_time": "2024-04-06T14:03:31.725075600Z",
     "start_time": "2024-04-06T14:03:01.673466800Z"
    }
   }
  },
  {
   "cell_type": "markdown",
   "source": [],
   "metadata": {
    "collapsed": false
   }
  }
 ],
 "metadata": {
  "kernelspec": {
   "display_name": "Python 3",
   "language": "python",
   "name": "python3"
  },
  "language_info": {
   "codemirror_mode": {
    "name": "ipython",
    "version": 2
   },
   "file_extension": ".py",
   "mimetype": "text/x-python",
   "name": "python",
   "nbconvert_exporter": "python",
   "pygments_lexer": "ipython2",
   "version": "2.7.6"
  }
 },
 "nbformat": 4,
 "nbformat_minor": 0
}
