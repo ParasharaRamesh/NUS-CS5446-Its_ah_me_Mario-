{
 "cells": [
  {
   "cell_type": "markdown",
   "source": [
    "## Importing packages"
   ],
   "metadata": {
    "collapsed": false
   }
  },
  {
   "cell_type": "code",
   "execution_count": 1,
   "metadata": {
    "collapsed": true,
    "ExecuteTime": {
     "end_time": "2024-04-06T14:11:41.282623400Z",
     "start_time": "2024-04-06T14:11:30.713848400Z"
    }
   },
   "outputs": [],
   "source": [
    "#standard packages\n",
    "import gym\n",
    "import numpy as np\n",
    "import matplotlib.pyplot as plt\n",
    "import cv2\n",
    "import torch as th\n",
    "from torch import nn\n",
    "from pathlib import Path\n",
    "import datetime\n",
    "from pytz import timezone\n",
    "import os\n",
    "\n",
    "# mario packages\n",
    "import gym_super_mario_bros\n",
    "from nes_py.wrappers import JoypadSpace\n",
    "from gym_super_mario_bros.actions import *\n",
    "\n",
    "# For custom level\n",
    "from game.environment import create_gym_env_from_level\n",
    "\n",
    "# Import Frame Stacker Wrapper and GrayScaling Wrapper\n",
    "from gym.wrappers import GrayScaleObservation\n",
    "\n",
    "# Import Vectorization Wrappers\n",
    "from stable_baselines3.common.vec_env import VecFrameStack, DummyVecEnv\n",
    "\n",
    "# Import algo\n",
    "from stable_baselines3 import A2C\n",
    "\n",
    "# Import Base Callback for saving models\n",
    "from stable_baselines3.common.callbacks import BaseCallback\n",
    "from stable_baselines3.common.torch_layers import BaseFeaturesExtractor\n",
    "from stable_baselines3.common.vec_env import VecVideoRecorder, SubprocVecEnv, DummyVecEnv"
   ]
  },
  {
   "cell_type": "markdown",
   "source": [
    "## Preprocessing & Defining Environment"
   ],
   "metadata": {
    "collapsed": false
   }
  },
  {
   "cell_type": "markdown",
   "source": [
    "By default, in each frame the game performs an action (a movement) and returns the reward for that action. What happens, is that to train the AI it is not necessary to make a move in each frame. That is why, the function executes the movement every X frames giving less work to do the training."
   ],
   "metadata": {
    "collapsed": false
   }
  },
  {
   "cell_type": "code",
   "execution_count": 2,
   "outputs": [],
   "source": [
    "class SkipFrame(gym.Wrapper):\n",
    "    def __init__(self, env, skip):\n",
    "        super().__init__(env)\n",
    "        self._skip = skip\n",
    "\n",
    "    def step(self, action):\n",
    "        total_reward = 0.0\n",
    "        done = False\n",
    "        for i in range(self._skip):\n",
    "            obs, reward, done, info = self.env.step(action)\n",
    "            total_reward += reward\n",
    "            if done:\n",
    "                break\n",
    "        return obs, total_reward, done, info"
   ],
   "metadata": {
    "collapsed": false,
    "ExecuteTime": {
     "end_time": "2024-04-06T14:11:41.293968400Z",
     "start_time": "2024-04-06T14:11:41.283699500Z"
    }
   }
  },
  {
   "cell_type": "markdown",
   "source": [
    "By default the enviroment is given by 240*256 pixels. In order to optimize our model it is not necessary to have so many pixels and that is why we can rescale our enviroment to a smaller scale."
   ],
   "metadata": {
    "collapsed": false
   }
  },
  {
   "cell_type": "code",
   "execution_count": 3,
   "outputs": [],
   "source": [
    "class ResizeEnv(gym.ObservationWrapper):\n",
    "    def __init__(self, env, size):\n",
    "        gym.ObservationWrapper.__init__(self, env)\n",
    "        (oldh, oldw, oldc) = env.observation_space.shape\n",
    "        newshape = (size, size, oldc)\n",
    "        self.observation_space = gym.spaces.Box(low=0, high=255,\n",
    "            shape=newshape, dtype=np.uint8)\n",
    "\n",
    "    def observation(self, frame):\n",
    "        height, width, _ = self.observation_space.shape\n",
    "        frame = cv2.resize(frame, (width, height), interpolation=cv2.INTER_AREA)\n",
    "        if frame.ndim == 2:\n",
    "            frame = frame[:,:,None]\n",
    "        return frame"
   ],
   "metadata": {
    "collapsed": false,
    "ExecuteTime": {
     "end_time": "2024-04-06T14:11:41.334853200Z",
     "start_time": "2024-04-06T14:11:41.297009800Z"
    }
   }
  },
  {
   "cell_type": "markdown",
   "source": [
    "Importing our custom environment function and including all of the processing we define the following function"
   ],
   "metadata": {
    "collapsed": false
   }
  },
  {
   "cell_type": "code",
   "execution_count": 4,
   "outputs": [],
   "source": [
    "def create_mario_env(world, stage, version, use_coin_collector_env):\n",
    "    env = create_gym_env_from_level(world, stage, version, use_coin_collector_env)\n",
    "    env = JoypadSpace(env, COMPLEX_MOVEMENT)\n",
    "    env = SkipFrame(env, skip=4)\n",
    "    env = GrayScaleObservation(env, keep_dim=True)\n",
    "    env = ResizeEnv(env, size=84)\n",
    "    env = DummyVecEnv([lambda: env])\n",
    "    env = VecFrameStack(env, 4, channels_order='last')\n",
    "    return env\n",
    "\n"
   ],
   "metadata": {
    "collapsed": false,
    "ExecuteTime": {
     "end_time": "2024-04-06T14:11:41.338890900Z",
     "start_time": "2024-04-06T14:11:41.312387300Z"
    }
   }
  },
  {
   "cell_type": "code",
   "execution_count": 5,
   "outputs": [
    {
     "name": "stdout",
     "output_type": "stream",
     "text": [
      "Registering Coin Collector CoinCollectorSuperMarioBrosEnv-1-1-v0 in gym for use later on.\n",
      "Successfully registered coin collector env CoinCollectorSuperMarioBrosEnv-1-1-v0!\n",
      "Registering Coin Collector CoinCollectorSuperMarioBrosEnv-1-2-v0 in gym for use later on.\n",
      "Successfully registered coin collector env CoinCollectorSuperMarioBrosEnv-1-2-v0!\n",
      "Registering Coin Collector CoinCollectorSuperMarioBrosEnv-1-3-v0 in gym for use later on.\n",
      "Successfully registered coin collector env CoinCollectorSuperMarioBrosEnv-1-3-v0!\n",
      "Registering Coin Collector CoinCollectorSuperMarioBrosEnv-1-4-v0 in gym for use later on.\n",
      "Successfully registered coin collector env CoinCollectorSuperMarioBrosEnv-1-4-v0!\n",
      "Registering Coin Collector CoinCollectorSuperMarioBrosEnv-2-1-v0 in gym for use later on.\n",
      "Successfully registered coin collector env CoinCollectorSuperMarioBrosEnv-2-1-v0!\n",
      "Registering Coin Collector CoinCollectorSuperMarioBrosEnv-2-2-v0 in gym for use later on.\n",
      "Successfully registered coin collector env CoinCollectorSuperMarioBrosEnv-2-2-v0!\n",
      "Registering Coin Collector CoinCollectorSuperMarioBrosEnv-2-3-v0 in gym for use later on.\n",
      "Successfully registered coin collector env CoinCollectorSuperMarioBrosEnv-2-3-v0!\n",
      "Registering Coin Collector CoinCollectorSuperMarioBrosEnv-2-4-v0 in gym for use later on.\n",
      "Successfully registered coin collector env CoinCollectorSuperMarioBrosEnv-2-4-v0!\n",
      "Registering Coin Collector CoinCollectorSuperMarioBrosEnv-3-1-v0 in gym for use later on.\n",
      "Successfully registered coin collector env CoinCollectorSuperMarioBrosEnv-3-1-v0!\n",
      "Registering Coin Collector CoinCollectorSuperMarioBrosEnv-3-2-v0 in gym for use later on.\n",
      "Successfully registered coin collector env CoinCollectorSuperMarioBrosEnv-3-2-v0!\n",
      "Registering Coin Collector CoinCollectorSuperMarioBrosEnv-3-3-v0 in gym for use later on.\n",
      "Successfully registered coin collector env CoinCollectorSuperMarioBrosEnv-3-3-v0!\n",
      "Registering Coin Collector CoinCollectorSuperMarioBrosEnv-3-4-v0 in gym for use later on.\n",
      "Successfully registered coin collector env CoinCollectorSuperMarioBrosEnv-3-4-v0!\n",
      "Registering Coin Collector CoinCollectorSuperMarioBrosEnv-4-1-v0 in gym for use later on.\n",
      "Successfully registered coin collector env CoinCollectorSuperMarioBrosEnv-4-1-v0!\n",
      "Registering Coin Collector CoinCollectorSuperMarioBrosEnv-4-2-v0 in gym for use later on.\n",
      "Successfully registered coin collector env CoinCollectorSuperMarioBrosEnv-4-2-v0!\n",
      "Registering Coin Collector CoinCollectorSuperMarioBrosEnv-4-3-v0 in gym for use later on.\n",
      "Successfully registered coin collector env CoinCollectorSuperMarioBrosEnv-4-3-v0!\n",
      "Registering Coin Collector CoinCollectorSuperMarioBrosEnv-4-4-v0 in gym for use later on.\n",
      "Successfully registered coin collector env CoinCollectorSuperMarioBrosEnv-4-4-v0!\n",
      "Registering Coin Collector CoinCollectorSuperMarioBrosEnv-5-1-v0 in gym for use later on.\n",
      "Successfully registered coin collector env CoinCollectorSuperMarioBrosEnv-5-1-v0!\n",
      "Registering Coin Collector CoinCollectorSuperMarioBrosEnv-5-2-v0 in gym for use later on.\n",
      "Successfully registered coin collector env CoinCollectorSuperMarioBrosEnv-5-2-v0!\n",
      "Registering Coin Collector CoinCollectorSuperMarioBrosEnv-5-3-v0 in gym for use later on.\n",
      "Successfully registered coin collector env CoinCollectorSuperMarioBrosEnv-5-3-v0!\n",
      "Registering Coin Collector CoinCollectorSuperMarioBrosEnv-5-4-v0 in gym for use later on.\n",
      "Successfully registered coin collector env CoinCollectorSuperMarioBrosEnv-5-4-v0!\n",
      "Registering Coin Collector CoinCollectorSuperMarioBrosEnv-6-1-v0 in gym for use later on.\n",
      "Successfully registered coin collector env CoinCollectorSuperMarioBrosEnv-6-1-v0!\n",
      "Registering Coin Collector CoinCollectorSuperMarioBrosEnv-6-2-v0 in gym for use later on.\n",
      "Successfully registered coin collector env CoinCollectorSuperMarioBrosEnv-6-2-v0!\n",
      "Registering Coin Collector CoinCollectorSuperMarioBrosEnv-6-3-v0 in gym for use later on.\n",
      "Successfully registered coin collector env CoinCollectorSuperMarioBrosEnv-6-3-v0!\n",
      "Registering Coin Collector CoinCollectorSuperMarioBrosEnv-6-4-v0 in gym for use later on.\n",
      "Successfully registered coin collector env CoinCollectorSuperMarioBrosEnv-6-4-v0!\n",
      "Registering Coin Collector CoinCollectorSuperMarioBrosEnv-7-1-v0 in gym for use later on.\n",
      "Successfully registered coin collector env CoinCollectorSuperMarioBrosEnv-7-1-v0!\n",
      "Registering Coin Collector CoinCollectorSuperMarioBrosEnv-7-2-v0 in gym for use later on.\n",
      "Successfully registered coin collector env CoinCollectorSuperMarioBrosEnv-7-2-v0!\n",
      "Registering Coin Collector CoinCollectorSuperMarioBrosEnv-7-3-v0 in gym for use later on.\n",
      "Successfully registered coin collector env CoinCollectorSuperMarioBrosEnv-7-3-v0!\n",
      "Registering Coin Collector CoinCollectorSuperMarioBrosEnv-7-4-v0 in gym for use later on.\n",
      "Successfully registered coin collector env CoinCollectorSuperMarioBrosEnv-7-4-v0!\n",
      "Registering Coin Collector CoinCollectorSuperMarioBrosEnv-8-1-v0 in gym for use later on.\n",
      "Successfully registered coin collector env CoinCollectorSuperMarioBrosEnv-8-1-v0!\n",
      "Registering Coin Collector CoinCollectorSuperMarioBrosEnv-8-2-v0 in gym for use later on.\n",
      "Successfully registered coin collector env CoinCollectorSuperMarioBrosEnv-8-2-v0!\n",
      "Registering Coin Collector CoinCollectorSuperMarioBrosEnv-8-3-v0 in gym for use later on.\n",
      "Successfully registered coin collector env CoinCollectorSuperMarioBrosEnv-8-3-v0!\n",
      "Registering Coin Collector CoinCollectorSuperMarioBrosEnv-8-4-v0 in gym for use later on.\n",
      "Successfully registered coin collector env CoinCollectorSuperMarioBrosEnv-8-4-v0!\n",
      "Registering Coin Collector CoinCollectorSuperMarioBrosEnv-1-1-v1 in gym for use later on.\n",
      "Successfully registered coin collector env CoinCollectorSuperMarioBrosEnv-1-1-v1!\n",
      "Registering Coin Collector CoinCollectorSuperMarioBrosEnv-1-2-v1 in gym for use later on.\n",
      "Successfully registered coin collector env CoinCollectorSuperMarioBrosEnv-1-2-v1!\n",
      "Registering Coin Collector CoinCollectorSuperMarioBrosEnv-1-3-v1 in gym for use later on.\n",
      "Successfully registered coin collector env CoinCollectorSuperMarioBrosEnv-1-3-v1!\n",
      "Registering Coin Collector CoinCollectorSuperMarioBrosEnv-1-4-v1 in gym for use later on.\n",
      "Successfully registered coin collector env CoinCollectorSuperMarioBrosEnv-1-4-v1!\n",
      "Registering Coin Collector CoinCollectorSuperMarioBrosEnv-2-1-v1 in gym for use later on.\n",
      "Successfully registered coin collector env CoinCollectorSuperMarioBrosEnv-2-1-v1!\n",
      "Registering Coin Collector CoinCollectorSuperMarioBrosEnv-2-2-v1 in gym for use later on.\n",
      "Successfully registered coin collector env CoinCollectorSuperMarioBrosEnv-2-2-v1!\n",
      "Registering Coin Collector CoinCollectorSuperMarioBrosEnv-2-3-v1 in gym for use later on.\n",
      "Successfully registered coin collector env CoinCollectorSuperMarioBrosEnv-2-3-v1!\n",
      "Registering Coin Collector CoinCollectorSuperMarioBrosEnv-2-4-v1 in gym for use later on.\n",
      "Successfully registered coin collector env CoinCollectorSuperMarioBrosEnv-2-4-v1!\n",
      "Registering Coin Collector CoinCollectorSuperMarioBrosEnv-3-1-v1 in gym for use later on.\n",
      "Successfully registered coin collector env CoinCollectorSuperMarioBrosEnv-3-1-v1!\n",
      "Registering Coin Collector CoinCollectorSuperMarioBrosEnv-3-2-v1 in gym for use later on.\n",
      "Successfully registered coin collector env CoinCollectorSuperMarioBrosEnv-3-2-v1!\n",
      "Registering Coin Collector CoinCollectorSuperMarioBrosEnv-3-3-v1 in gym for use later on.\n",
      "Successfully registered coin collector env CoinCollectorSuperMarioBrosEnv-3-3-v1!\n",
      "Registering Coin Collector CoinCollectorSuperMarioBrosEnv-3-4-v1 in gym for use later on.\n",
      "Successfully registered coin collector env CoinCollectorSuperMarioBrosEnv-3-4-v1!\n",
      "Registering Coin Collector CoinCollectorSuperMarioBrosEnv-4-1-v1 in gym for use later on.\n",
      "Successfully registered coin collector env CoinCollectorSuperMarioBrosEnv-4-1-v1!\n",
      "Registering Coin Collector CoinCollectorSuperMarioBrosEnv-4-2-v1 in gym for use later on.\n",
      "Successfully registered coin collector env CoinCollectorSuperMarioBrosEnv-4-2-v1!\n",
      "Registering Coin Collector CoinCollectorSuperMarioBrosEnv-4-3-v1 in gym for use later on.\n",
      "Successfully registered coin collector env CoinCollectorSuperMarioBrosEnv-4-3-v1!\n",
      "Registering Coin Collector CoinCollectorSuperMarioBrosEnv-4-4-v1 in gym for use later on.\n",
      "Successfully registered coin collector env CoinCollectorSuperMarioBrosEnv-4-4-v1!\n",
      "Registering Coin Collector CoinCollectorSuperMarioBrosEnv-5-1-v1 in gym for use later on.\n",
      "Successfully registered coin collector env CoinCollectorSuperMarioBrosEnv-5-1-v1!\n",
      "Registering Coin Collector CoinCollectorSuperMarioBrosEnv-5-2-v1 in gym for use later on.\n",
      "Successfully registered coin collector env CoinCollectorSuperMarioBrosEnv-5-2-v1!\n",
      "Registering Coin Collector CoinCollectorSuperMarioBrosEnv-5-3-v1 in gym for use later on.\n",
      "Successfully registered coin collector env CoinCollectorSuperMarioBrosEnv-5-3-v1!\n",
      "Registering Coin Collector CoinCollectorSuperMarioBrosEnv-5-4-v1 in gym for use later on.\n",
      "Successfully registered coin collector env CoinCollectorSuperMarioBrosEnv-5-4-v1!\n",
      "Registering Coin Collector CoinCollectorSuperMarioBrosEnv-6-1-v1 in gym for use later on.\n",
      "Successfully registered coin collector env CoinCollectorSuperMarioBrosEnv-6-1-v1!\n",
      "Registering Coin Collector CoinCollectorSuperMarioBrosEnv-6-2-v1 in gym for use later on.\n",
      "Successfully registered coin collector env CoinCollectorSuperMarioBrosEnv-6-2-v1!\n",
      "Registering Coin Collector CoinCollectorSuperMarioBrosEnv-6-3-v1 in gym for use later on.\n",
      "Successfully registered coin collector env CoinCollectorSuperMarioBrosEnv-6-3-v1!\n",
      "Registering Coin Collector CoinCollectorSuperMarioBrosEnv-6-4-v1 in gym for use later on.\n",
      "Successfully registered coin collector env CoinCollectorSuperMarioBrosEnv-6-4-v1!\n",
      "Registering Coin Collector CoinCollectorSuperMarioBrosEnv-7-1-v1 in gym for use later on.\n",
      "Successfully registered coin collector env CoinCollectorSuperMarioBrosEnv-7-1-v1!\n",
      "Registering Coin Collector CoinCollectorSuperMarioBrosEnv-7-2-v1 in gym for use later on.\n",
      "Successfully registered coin collector env CoinCollectorSuperMarioBrosEnv-7-2-v1!\n",
      "Registering Coin Collector CoinCollectorSuperMarioBrosEnv-7-3-v1 in gym for use later on.\n",
      "Successfully registered coin collector env CoinCollectorSuperMarioBrosEnv-7-3-v1!\n",
      "Registering Coin Collector CoinCollectorSuperMarioBrosEnv-7-4-v1 in gym for use later on.\n",
      "Successfully registered coin collector env CoinCollectorSuperMarioBrosEnv-7-4-v1!\n",
      "Registering Coin Collector CoinCollectorSuperMarioBrosEnv-8-1-v1 in gym for use later on.\n",
      "Successfully registered coin collector env CoinCollectorSuperMarioBrosEnv-8-1-v1!\n",
      "Registering Coin Collector CoinCollectorSuperMarioBrosEnv-8-2-v1 in gym for use later on.\n",
      "Successfully registered coin collector env CoinCollectorSuperMarioBrosEnv-8-2-v1!\n",
      "Registering Coin Collector CoinCollectorSuperMarioBrosEnv-8-3-v1 in gym for use later on.\n",
      "Successfully registered coin collector env CoinCollectorSuperMarioBrosEnv-8-3-v1!\n",
      "Registering Coin Collector CoinCollectorSuperMarioBrosEnv-8-4-v1 in gym for use later on.\n",
      "Successfully registered coin collector env CoinCollectorSuperMarioBrosEnv-8-4-v1!\n",
      "Registering Coin Collector CoinCollectorSuperMarioBrosEnv-1-1-v2 in gym for use later on.\n",
      "Successfully registered coin collector env CoinCollectorSuperMarioBrosEnv-1-1-v2!\n",
      "Registering Coin Collector CoinCollectorSuperMarioBrosEnv-1-2-v2 in gym for use later on.\n",
      "Successfully registered coin collector env CoinCollectorSuperMarioBrosEnv-1-2-v2!\n",
      "Registering Coin Collector CoinCollectorSuperMarioBrosEnv-1-3-v2 in gym for use later on.\n",
      "Successfully registered coin collector env CoinCollectorSuperMarioBrosEnv-1-3-v2!\n",
      "Registering Coin Collector CoinCollectorSuperMarioBrosEnv-1-4-v2 in gym for use later on.\n",
      "Successfully registered coin collector env CoinCollectorSuperMarioBrosEnv-1-4-v2!\n",
      "Registering Coin Collector CoinCollectorSuperMarioBrosEnv-2-1-v2 in gym for use later on.\n",
      "Successfully registered coin collector env CoinCollectorSuperMarioBrosEnv-2-1-v2!\n",
      "Registering Coin Collector CoinCollectorSuperMarioBrosEnv-2-2-v2 in gym for use later on.\n",
      "Successfully registered coin collector env CoinCollectorSuperMarioBrosEnv-2-2-v2!\n",
      "Registering Coin Collector CoinCollectorSuperMarioBrosEnv-2-3-v2 in gym for use later on.\n",
      "Successfully registered coin collector env CoinCollectorSuperMarioBrosEnv-2-3-v2!\n",
      "Registering Coin Collector CoinCollectorSuperMarioBrosEnv-2-4-v2 in gym for use later on.\n",
      "Successfully registered coin collector env CoinCollectorSuperMarioBrosEnv-2-4-v2!\n",
      "Registering Coin Collector CoinCollectorSuperMarioBrosEnv-3-1-v2 in gym for use later on.\n",
      "Successfully registered coin collector env CoinCollectorSuperMarioBrosEnv-3-1-v2!\n",
      "Registering Coin Collector CoinCollectorSuperMarioBrosEnv-3-2-v2 in gym for use later on.\n",
      "Successfully registered coin collector env CoinCollectorSuperMarioBrosEnv-3-2-v2!\n",
      "Registering Coin Collector CoinCollectorSuperMarioBrosEnv-3-3-v2 in gym for use later on.\n",
      "Successfully registered coin collector env CoinCollectorSuperMarioBrosEnv-3-3-v2!\n",
      "Registering Coin Collector CoinCollectorSuperMarioBrosEnv-3-4-v2 in gym for use later on.\n",
      "Successfully registered coin collector env CoinCollectorSuperMarioBrosEnv-3-4-v2!\n",
      "Registering Coin Collector CoinCollectorSuperMarioBrosEnv-4-1-v2 in gym for use later on.\n",
      "Successfully registered coin collector env CoinCollectorSuperMarioBrosEnv-4-1-v2!\n",
      "Registering Coin Collector CoinCollectorSuperMarioBrosEnv-4-2-v2 in gym for use later on.\n",
      "Successfully registered coin collector env CoinCollectorSuperMarioBrosEnv-4-2-v2!\n",
      "Registering Coin Collector CoinCollectorSuperMarioBrosEnv-4-3-v2 in gym for use later on.\n",
      "Successfully registered coin collector env CoinCollectorSuperMarioBrosEnv-4-3-v2!\n",
      "Registering Coin Collector CoinCollectorSuperMarioBrosEnv-4-4-v2 in gym for use later on.\n",
      "Successfully registered coin collector env CoinCollectorSuperMarioBrosEnv-4-4-v2!\n",
      "Registering Coin Collector CoinCollectorSuperMarioBrosEnv-5-1-v2 in gym for use later on.\n",
      "Successfully registered coin collector env CoinCollectorSuperMarioBrosEnv-5-1-v2!\n",
      "Registering Coin Collector CoinCollectorSuperMarioBrosEnv-5-2-v2 in gym for use later on.\n",
      "Successfully registered coin collector env CoinCollectorSuperMarioBrosEnv-5-2-v2!\n",
      "Registering Coin Collector CoinCollectorSuperMarioBrosEnv-5-3-v2 in gym for use later on.\n",
      "Successfully registered coin collector env CoinCollectorSuperMarioBrosEnv-5-3-v2!\n",
      "Registering Coin Collector CoinCollectorSuperMarioBrosEnv-5-4-v2 in gym for use later on.\n",
      "Successfully registered coin collector env CoinCollectorSuperMarioBrosEnv-5-4-v2!\n",
      "Registering Coin Collector CoinCollectorSuperMarioBrosEnv-6-1-v2 in gym for use later on.\n",
      "Successfully registered coin collector env CoinCollectorSuperMarioBrosEnv-6-1-v2!\n",
      "Registering Coin Collector CoinCollectorSuperMarioBrosEnv-6-2-v2 in gym for use later on.\n",
      "Successfully registered coin collector env CoinCollectorSuperMarioBrosEnv-6-2-v2!\n",
      "Registering Coin Collector CoinCollectorSuperMarioBrosEnv-6-3-v2 in gym for use later on.\n",
      "Successfully registered coin collector env CoinCollectorSuperMarioBrosEnv-6-3-v2!\n",
      "Registering Coin Collector CoinCollectorSuperMarioBrosEnv-6-4-v2 in gym for use later on.\n",
      "Successfully registered coin collector env CoinCollectorSuperMarioBrosEnv-6-4-v2!\n",
      "Registering Coin Collector CoinCollectorSuperMarioBrosEnv-7-1-v2 in gym for use later on.\n",
      "Successfully registered coin collector env CoinCollectorSuperMarioBrosEnv-7-1-v2!\n",
      "Registering Coin Collector CoinCollectorSuperMarioBrosEnv-7-2-v2 in gym for use later on.\n",
      "Successfully registered coin collector env CoinCollectorSuperMarioBrosEnv-7-2-v2!\n",
      "Registering Coin Collector CoinCollectorSuperMarioBrosEnv-7-3-v2 in gym for use later on.\n",
      "Successfully registered coin collector env CoinCollectorSuperMarioBrosEnv-7-3-v2!\n",
      "Registering Coin Collector CoinCollectorSuperMarioBrosEnv-7-4-v2 in gym for use later on.\n",
      "Successfully registered coin collector env CoinCollectorSuperMarioBrosEnv-7-4-v2!\n",
      "Registering Coin Collector CoinCollectorSuperMarioBrosEnv-8-1-v2 in gym for use later on.\n",
      "Successfully registered coin collector env CoinCollectorSuperMarioBrosEnv-8-1-v2!\n",
      "Registering Coin Collector CoinCollectorSuperMarioBrosEnv-8-2-v2 in gym for use later on.\n",
      "Successfully registered coin collector env CoinCollectorSuperMarioBrosEnv-8-2-v2!\n",
      "Registering Coin Collector CoinCollectorSuperMarioBrosEnv-8-3-v2 in gym for use later on.\n",
      "Successfully registered coin collector env CoinCollectorSuperMarioBrosEnv-8-3-v2!\n",
      "Registering Coin Collector CoinCollectorSuperMarioBrosEnv-8-4-v2 in gym for use later on.\n",
      "Successfully registered coin collector env CoinCollectorSuperMarioBrosEnv-8-4-v2!\n",
      "Registering Coin Collector CoinCollectorSuperMarioBrosEnv-1-1-v3 in gym for use later on.\n",
      "Successfully registered coin collector env CoinCollectorSuperMarioBrosEnv-1-1-v3!\n",
      "Registering Coin Collector CoinCollectorSuperMarioBrosEnv-1-2-v3 in gym for use later on.\n",
      "Successfully registered coin collector env CoinCollectorSuperMarioBrosEnv-1-2-v3!\n",
      "Registering Coin Collector CoinCollectorSuperMarioBrosEnv-1-3-v3 in gym for use later on.\n",
      "Successfully registered coin collector env CoinCollectorSuperMarioBrosEnv-1-3-v3!\n",
      "Registering Coin Collector CoinCollectorSuperMarioBrosEnv-1-4-v3 in gym for use later on.\n",
      "Successfully registered coin collector env CoinCollectorSuperMarioBrosEnv-1-4-v3!\n",
      "Registering Coin Collector CoinCollectorSuperMarioBrosEnv-2-1-v3 in gym for use later on.\n",
      "Successfully registered coin collector env CoinCollectorSuperMarioBrosEnv-2-1-v3!\n",
      "Registering Coin Collector CoinCollectorSuperMarioBrosEnv-2-2-v3 in gym for use later on.\n",
      "Successfully registered coin collector env CoinCollectorSuperMarioBrosEnv-2-2-v3!\n",
      "Registering Coin Collector CoinCollectorSuperMarioBrosEnv-2-3-v3 in gym for use later on.\n",
      "Successfully registered coin collector env CoinCollectorSuperMarioBrosEnv-2-3-v3!\n",
      "Registering Coin Collector CoinCollectorSuperMarioBrosEnv-2-4-v3 in gym for use later on.\n",
      "Successfully registered coin collector env CoinCollectorSuperMarioBrosEnv-2-4-v3!\n",
      "Registering Coin Collector CoinCollectorSuperMarioBrosEnv-3-1-v3 in gym for use later on.\n",
      "Successfully registered coin collector env CoinCollectorSuperMarioBrosEnv-3-1-v3!\n",
      "Registering Coin Collector CoinCollectorSuperMarioBrosEnv-3-2-v3 in gym for use later on.\n",
      "Successfully registered coin collector env CoinCollectorSuperMarioBrosEnv-3-2-v3!\n",
      "Registering Coin Collector CoinCollectorSuperMarioBrosEnv-3-3-v3 in gym for use later on.\n",
      "Successfully registered coin collector env CoinCollectorSuperMarioBrosEnv-3-3-v3!\n",
      "Registering Coin Collector CoinCollectorSuperMarioBrosEnv-3-4-v3 in gym for use later on.\n",
      "Successfully registered coin collector env CoinCollectorSuperMarioBrosEnv-3-4-v3!\n",
      "Registering Coin Collector CoinCollectorSuperMarioBrosEnv-4-1-v3 in gym for use later on.\n",
      "Successfully registered coin collector env CoinCollectorSuperMarioBrosEnv-4-1-v3!\n",
      "Registering Coin Collector CoinCollectorSuperMarioBrosEnv-4-2-v3 in gym for use later on.\n",
      "Successfully registered coin collector env CoinCollectorSuperMarioBrosEnv-4-2-v3!\n",
      "Registering Coin Collector CoinCollectorSuperMarioBrosEnv-4-3-v3 in gym for use later on.\n",
      "Successfully registered coin collector env CoinCollectorSuperMarioBrosEnv-4-3-v3!\n",
      "Registering Coin Collector CoinCollectorSuperMarioBrosEnv-4-4-v3 in gym for use later on.\n",
      "Successfully registered coin collector env CoinCollectorSuperMarioBrosEnv-4-4-v3!\n",
      "Registering Coin Collector CoinCollectorSuperMarioBrosEnv-5-1-v3 in gym for use later on.\n",
      "Successfully registered coin collector env CoinCollectorSuperMarioBrosEnv-5-1-v3!\n",
      "Registering Coin Collector CoinCollectorSuperMarioBrosEnv-5-2-v3 in gym for use later on.\n",
      "Successfully registered coin collector env CoinCollectorSuperMarioBrosEnv-5-2-v3!\n",
      "Registering Coin Collector CoinCollectorSuperMarioBrosEnv-5-3-v3 in gym for use later on.\n",
      "Successfully registered coin collector env CoinCollectorSuperMarioBrosEnv-5-3-v3!\n",
      "Registering Coin Collector CoinCollectorSuperMarioBrosEnv-5-4-v3 in gym for use later on.\n",
      "Successfully registered coin collector env CoinCollectorSuperMarioBrosEnv-5-4-v3!\n",
      "Registering Coin Collector CoinCollectorSuperMarioBrosEnv-6-1-v3 in gym for use later on.\n",
      "Successfully registered coin collector env CoinCollectorSuperMarioBrosEnv-6-1-v3!\n",
      "Registering Coin Collector CoinCollectorSuperMarioBrosEnv-6-2-v3 in gym for use later on.\n",
      "Successfully registered coin collector env CoinCollectorSuperMarioBrosEnv-6-2-v3!\n",
      "Registering Coin Collector CoinCollectorSuperMarioBrosEnv-6-3-v3 in gym for use later on.\n",
      "Successfully registered coin collector env CoinCollectorSuperMarioBrosEnv-6-3-v3!\n",
      "Registering Coin Collector CoinCollectorSuperMarioBrosEnv-6-4-v3 in gym for use later on.\n",
      "Successfully registered coin collector env CoinCollectorSuperMarioBrosEnv-6-4-v3!\n",
      "Registering Coin Collector CoinCollectorSuperMarioBrosEnv-7-1-v3 in gym for use later on.\n",
      "Successfully registered coin collector env CoinCollectorSuperMarioBrosEnv-7-1-v3!\n",
      "Registering Coin Collector CoinCollectorSuperMarioBrosEnv-7-2-v3 in gym for use later on.\n",
      "Successfully registered coin collector env CoinCollectorSuperMarioBrosEnv-7-2-v3!\n",
      "Registering Coin Collector CoinCollectorSuperMarioBrosEnv-7-3-v3 in gym for use later on.\n",
      "Successfully registered coin collector env CoinCollectorSuperMarioBrosEnv-7-3-v3!\n",
      "Registering Coin Collector CoinCollectorSuperMarioBrosEnv-7-4-v3 in gym for use later on.\n",
      "Successfully registered coin collector env CoinCollectorSuperMarioBrosEnv-7-4-v3!\n",
      "Registering Coin Collector CoinCollectorSuperMarioBrosEnv-8-1-v3 in gym for use later on.\n",
      "Successfully registered coin collector env CoinCollectorSuperMarioBrosEnv-8-1-v3!\n",
      "Registering Coin Collector CoinCollectorSuperMarioBrosEnv-8-2-v3 in gym for use later on.\n",
      "Successfully registered coin collector env CoinCollectorSuperMarioBrosEnv-8-2-v3!\n",
      "Registering Coin Collector CoinCollectorSuperMarioBrosEnv-8-3-v3 in gym for use later on.\n",
      "Successfully registered coin collector env CoinCollectorSuperMarioBrosEnv-8-3-v3!\n",
      "Registering Coin Collector CoinCollectorSuperMarioBrosEnv-8-4-v3 in gym for use later on.\n",
      "Successfully registered coin collector env CoinCollectorSuperMarioBrosEnv-8-4-v3!\n"
     ]
    }
   ],
   "source": [
    "# <world> is a number in {1, 2, 3, 4, 5, 6, 7, 8} indicating the world\n",
    "world = 1\n",
    "# <stage> is a number in {1, 2, 3, 4} indicating the stage within a world\n",
    "stage = 1\n",
    "version = 3\n",
    "use_coin_collector_env = True\n",
    "\n",
    "env = create_mario_env(world, stage, version, use_coin_collector_env)"
   ],
   "metadata": {
    "collapsed": false,
    "ExecuteTime": {
     "end_time": "2024-04-06T14:11:41.632467800Z",
     "start_time": "2024-04-06T14:11:41.323609700Z"
    }
   }
  },
  {
   "cell_type": "code",
   "execution_count": 6,
   "outputs": [
    {
     "name": "stdout",
     "output_type": "stream",
     "text": [
      "state: (1, 84, 84, 4)\n"
     ]
    }
   ],
   "source": [
    "env.reset()\n",
    "state, reward, done, info = env.step([0])\n",
    "print('state:', state.shape) #Color scale, height, width, num of stacks"
   ],
   "metadata": {
    "collapsed": false,
    "ExecuteTime": {
     "end_time": "2024-04-06T14:11:41.690290500Z",
     "start_time": "2024-04-06T14:11:41.632467800Z"
    }
   }
  },
  {
   "cell_type": "markdown",
   "source": [
    "## Model Training"
   ],
   "metadata": {
    "collapsed": false
   }
  },
  {
   "cell_type": "markdown",
   "source": [
    "Model parameters"
   ],
   "metadata": {
    "collapsed": false
   }
  },
  {
   "cell_type": "markdown",
   "source": [
    "Model"
   ],
   "metadata": {
    "collapsed": false
   }
  },
  {
   "cell_type": "code",
   "execution_count": 7,
   "outputs": [],
   "source": [
    "class MarioNet(BaseFeaturesExtractor):\n",
    "    def __init__(self, observation_space: gym.spaces.Box, features_dim):\n",
    "        super(MarioNet, self).__init__(observation_space, features_dim)\n",
    "        n_input_channels = observation_space.shape[0]\n",
    "        self.cnn = nn.Sequential(\n",
    "            nn.Conv2d(n_input_channels, 32, kernel_size=3, stride=2, padding=1),\n",
    "            nn.ReLU(),\n",
    "            nn.Conv2d(32, 32, kernel_size=3, stride=2, padding=1),\n",
    "            nn.ReLU(),\n",
    "            nn.Conv2d(32, 32, kernel_size=3, stride=2, padding=1),\n",
    "            nn.ReLU(),\n",
    "            nn.Conv2d(32, 32, kernel_size=3, stride=2, padding=1),\n",
    "            nn.ReLU(),\n",
    "            nn.Flatten(),\n",
    "        )\n",
    "\n",
    "        # Compute shape by doing one forward pass\n",
    "        with th.no_grad():\n",
    "            n_flatten = self.cnn(th.as_tensor(observation_space.sample()[None]).float()).shape[1]\n",
    "\n",
    "        self.linear = nn.Sequential(nn.Linear(n_flatten, features_dim), nn.ReLU())\n",
    "\n",
    "    def forward(self, observations: th.Tensor) -> th.Tensor:\n",
    "        return self.linear(self.cnn(observations))\n",
    "\n",
    "policy_kwargs = dict(\n",
    "    features_extractor_class=MarioNet,\n",
    "    features_extractor_kwargs=dict(features_dim=512),\n",
    ")"
   ],
   "metadata": {
    "collapsed": false,
    "ExecuteTime": {
     "end_time": "2024-04-06T14:11:41.701582100Z",
     "start_time": "2024-04-06T14:11:41.668292100Z"
    }
   }
  },
  {
   "cell_type": "markdown",
   "source": [
    "The next step consists of the creation of a file where the AI will save the results obtained in each iteration. In this way, later we will be able to visualize graphically the learning of our model.\n",
    "\n",
    "In this case, the average score, the average starting time and the best score obtained will be saved for each iteration."
   ],
   "metadata": {
    "collapsed": false
   }
  },
  {
   "cell_type": "code",
   "execution_count": 8,
   "outputs": [],
   "source": [
    "# Get the absolute path of the current directory\n",
    "current_dir = os.path.abspath(os.path.dirname(\".\"))\n",
    "\n",
    "# Define the directory name\n",
    "dir_name = 'model'\n",
    "\n",
    "# Combine the current directory path with the directory name\n",
    "save_dir = os.path.join(current_dir, dir_name)\n",
    "\n",
    "# Create the directory if it doesn't exist\n",
    "if not os.path.exists(save_dir):\n",
    "    os.makedirs(save_dir)"
   ],
   "metadata": {
    "collapsed": false,
    "ExecuteTime": {
     "end_time": "2024-04-06T14:11:41.706715600Z",
     "start_time": "2024-04-06T14:11:41.678491500Z"
    }
   }
  },
  {
   "cell_type": "code",
   "execution_count": 9,
   "outputs": [
    {
     "data": {
      "text/plain": "'C:\\\\Parashara\\\\Projects\\\\NUS projects\\\\Sem2\\\\its_ah_me_mario\\\\agents\\\\actorcritic\\\\model'"
     },
     "execution_count": 9,
     "metadata": {},
     "output_type": "execute_result"
    }
   ],
   "source": [
    "save_dir"
   ],
   "metadata": {
    "collapsed": false,
    "ExecuteTime": {
     "end_time": "2024-04-06T14:11:41.725017400Z",
     "start_time": "2024-04-06T14:11:41.694400400Z"
    }
   }
  },
  {
   "cell_type": "code",
   "execution_count": 10,
   "outputs": [],
   "source": [
    "reward_log_path = os.path.join(save_dir,'reward_log.csv')\n",
    "\n",
    "with open(reward_log_path, 'a') as f:\n",
    "    print('timesteps,reward,best_reward', file=f)"
   ],
   "metadata": {
    "collapsed": false,
    "ExecuteTime": {
     "end_time": "2024-04-06T14:11:41.760740600Z",
     "start_time": "2024-04-06T14:11:41.709717200Z"
    }
   }
  },
  {
   "cell_type": "markdown",
   "source": [
    "This callback function will be in charge of writing the aforementioned data to the file. This function will be executed automatically each time an iteration has been completed."
   ],
   "metadata": {
    "collapsed": false
   }
  },
  {
   "cell_type": "code",
   "execution_count": 11,
   "outputs": [],
   "source": [
    "class TrainAndLoggingCallback(BaseCallback):\n",
    "    def __init__(self, check_freq, save_path, verbose=1):\n",
    "        super(TrainAndLoggingCallback, self).__init__(verbose)\n",
    "        self.check_freq = check_freq\n",
    "        self.save_path = save_path\n",
    "\n",
    "    def _init_callback(self):\n",
    "        if self.save_path is not None:\n",
    "            os.makedirs(self.save_path, exist_ok=True)\n",
    "\n",
    "    def _on_step(self):\n",
    "        if self.n_calls % self.check_freq == 0:\n",
    "            model_path = os.path.join(save_dir, f'best_model_{self.n_calls}')\n",
    "            self.model.save(model_path)\n",
    "\n",
    "            total_reward = [0] * EPISODE_NUMBERS\n",
    "            total_time = [0] * EPISODE_NUMBERS\n",
    "            best_reward = 0\n",
    "\n",
    "            for i in range(EPISODE_NUMBERS):\n",
    "                state = env.reset()  # reset for each new trial\n",
    "                done = False\n",
    "                total_reward[i] = 0\n",
    "                total_time[i] = 0\n",
    "                while not done and total_time[i] < MAX_TIMESTEP_TEST:\n",
    "                    action, _ = model.predict(state)\n",
    "                    state, reward, done, info = env.step(action)\n",
    "\n",
    "                    # This should render it\n",
    "                    # env.render()\n",
    "\n",
    "                    total_reward[i] += reward[0]\n",
    "                    total_time[i] += 1\n",
    "\n",
    "                if total_reward[i] > best_reward:\n",
    "                    best_reward = total_reward[i]\n",
    "                    best_epoch = self.n_calls\n",
    "\n",
    "                state = env.reset()  # reset for each new trial\n",
    "\n",
    "            print('time steps:', self.n_calls, '/', TOTAL_TIMESTEP_NUMB)\n",
    "            print('average reward:', (sum(total_reward) / EPISODE_NUMBERS),\n",
    "                  'average time:', (sum(total_time) / EPISODE_NUMBERS),\n",
    "                  'best_reward:', best_reward)\n",
    "\n",
    "            with open(reward_log_path, 'a') as f:\n",
    "                print(self.n_calls, ',', sum(total_reward) / EPISODE_NUMBERS, ',', best_reward, file=f)\n",
    "\n",
    "        return True"
   ],
   "metadata": {
    "collapsed": false,
    "ExecuteTime": {
     "end_time": "2024-04-06T14:11:41.765916200Z",
     "start_time": "2024-04-06T14:11:41.732142800Z"
    }
   }
  },
  {
   "cell_type": "code",
   "execution_count": 12,
   "outputs": [],
   "source": [
    "# Model Param\n",
    "# CHECK_FREQ_NUMB = 10000\n",
    "CHECK_FREQ_NUMB = 1000\n",
    "TOTAL_TIMESTEP_NUMB = 5000000\n",
    "LEARNING_RATE = 0.0001\n",
    "GAE = 1.0\n",
    "ENT_COEF = 0.01\n",
    "N_STEPS = 512\n",
    "GAMMA = 0.9\n",
    "BATCH_SIZE = 64\n",
    "N_EPOCHS = 10\n",
    "\n",
    "# Test Param\n",
    "EPISODE_NUMBERS = 20\n",
    "MAX_TIMESTEP_TEST = 1000"
   ],
   "metadata": {
    "collapsed": false,
    "ExecuteTime": {
     "end_time": "2024-04-06T14:11:41.781263900Z",
     "start_time": "2024-04-06T14:11:41.740247Z"
    }
   }
  },
  {
   "cell_type": "code",
   "execution_count": 13,
   "outputs": [],
   "source": [
    "callback = TrainAndLoggingCallback(check_freq=CHECK_FREQ_NUMB, save_path=save_dir)"
   ],
   "metadata": {
    "collapsed": false,
    "ExecuteTime": {
     "end_time": "2024-04-06T14:11:44.087750700Z",
     "start_time": "2024-04-06T14:11:44.055926500Z"
    }
   }
  },
  {
   "cell_type": "markdown",
   "source": [
    "## Model Training"
   ],
   "metadata": {
    "collapsed": false
   }
  },
  {
   "cell_type": "code",
   "execution_count": 14,
   "outputs": [
    {
     "name": "stdout",
     "output_type": "stream",
     "text": [
      "Using cuda device\n",
      "Wrapping the env in a VecTransposeImage.\n"
     ]
    }
   ],
   "source": [
    "model = A2C('CnnPolicy', env, verbose=2, policy_kwargs=policy_kwargs, tensorboard_log=save_dir,\n",
    "            learning_rate=LEARNING_RATE, n_steps=N_STEPS, gamma=GAMMA, gae_lambda=GAE,\n",
    "            ent_coef=ENT_COEF)"
   ],
   "metadata": {
    "collapsed": false,
    "ExecuteTime": {
     "end_time": "2024-04-06T14:11:49.629671300Z",
     "start_time": "2024-04-06T14:11:45.011080300Z"
    }
   }
  },
  {
   "cell_type": "code",
   "execution_count": null,
   "outputs": [
    {
     "name": "stdout",
     "output_type": "stream",
     "text": [
      "Logging to C:\\Parashara\\Projects\\NUS projects\\Sem2\\its_ah_me_mario\\agents\\actorcritic\\model\\A2C_1\n",
      "----------------------------\n",
      "| time/              |     |\n",
      "|    fps             | 43  |\n",
      "|    iterations      | 1   |\n",
      "|    time_elapsed    | 11  |\n",
      "|    total_timesteps | 512 |\n",
      "----------------------------\n",
      "time steps: 1000 / 5000000\n",
      "average reward: 134.8 average time: 882.2 best_reward: 375.0\n",
      "------------------------------------\n",
      "| time/                 |          |\n",
      "|    fps                | 3        |\n",
      "|    iterations         | 2        |\n",
      "|    time_elapsed       | 264      |\n",
      "|    total_timesteps    | 1024     |\n",
      "| train/                |          |\n",
      "|    entropy_loss       | -2.48    |\n",
      "|    explained_variance | 0.000481 |\n",
      "|    learning_rate      | 0.0001   |\n",
      "|    n_updates          | 1        |\n",
      "|    policy_loss        | 0.888    |\n",
      "|    value_loss         | 88.8     |\n",
      "------------------------------------\n",
      "------------------------------------\n",
      "| time/                 |          |\n",
      "|    fps                | 5        |\n",
      "|    iterations         | 3        |\n",
      "|    time_elapsed       | 269      |\n",
      "|    total_timesteps    | 1536     |\n",
      "| train/                |          |\n",
      "|    entropy_loss       | -2.48    |\n",
      "|    explained_variance | 0.00306  |\n",
      "|    learning_rate      | 0.0001   |\n",
      "|    n_updates          | 2        |\n",
      "|    policy_loss        | 6.42     |\n",
      "|    value_loss         | 104      |\n",
      "------------------------------------\n"
     ]
    }
   ],
   "source": [
    "model.learn(total_timesteps=TOTAL_TIMESTEP_NUMB, callback=callback, log_interval=1)"
   ],
   "metadata": {
    "collapsed": false,
    "is_executing": true,
    "ExecuteTime": {
     "start_time": "2024-04-06T14:11:49.907743800Z"
    }
   }
  },
  {
   "cell_type": "markdown",
   "source": [
    "## Model testing"
   ],
   "metadata": {
    "collapsed": false
   }
  },
  {
   "cell_type": "markdown",
   "source": [
    "To get the best epoch we would need to check the graph and see the best epoch from there"
   ],
   "metadata": {
    "collapsed": false
   }
  },
  {
   "cell_type": "code",
   "execution_count": 33,
   "outputs": [],
   "source": [
    "best_epoch = 5000"
   ],
   "metadata": {
    "collapsed": false,
    "ExecuteTime": {
     "end_time": "2024-04-06T14:02:57.711204100Z",
     "start_time": "2024-04-06T14:02:57.694567800Z"
    }
   }
  },
  {
   "cell_type": "code",
   "execution_count": 34,
   "outputs": [],
   "source": [
    "best_model_path = os.path.join(save_dir, 'best_model_{}'.format(best_epoch))\n",
    "model = A2C.load(best_model_path)\n"
   ],
   "metadata": {
    "collapsed": false,
    "ExecuteTime": {
     "end_time": "2024-04-06T14:02:59.326045200Z",
     "start_time": "2024-04-06T14:02:59.123658200Z"
    }
   }
  },
  {
   "cell_type": "code",
   "execution_count": 35,
   "outputs": [
    {
     "name": "stderr",
     "output_type": "stream",
     "text": [
      "C:\\Users\\paras\\anaconda3\\envs\\mario-baselines\\lib\\site-packages\\pyglet\\image\\codecs\\wic.py:289: UserWarning: [WinError -2147417850] Cannot change thread mode after it is set\n",
      "  warnings.warn(str(err))\n",
      "\n",
      "KeyboardInterrupt\n",
      "\n"
     ]
    }
   ],
   "source": [
    "state = env.reset()\n",
    "done = True\n",
    "plays = 0;\n",
    "wins = 0;\n",
    "while plays < 100:\n",
    "    if done:\n",
    "        state = env.reset()\n",
    "        if info[0][\"flag_get\"]:\n",
    "          wins += 1\n",
    "        plays += 1\n",
    "    action, _ = model.predict(state)\n",
    "    state, reward, done, info = env.step(action)\n",
    "    env.render()\n",
    "print(\"Model win rate: \" + str(wins) + \"%\")"
   ],
   "metadata": {
    "collapsed": false,
    "ExecuteTime": {
     "end_time": "2024-04-06T14:03:31.725075600Z",
     "start_time": "2024-04-06T14:03:01.673466800Z"
    }
   }
  },
  {
   "cell_type": "markdown",
   "source": [],
   "metadata": {
    "collapsed": false
   }
  }
 ],
 "metadata": {
  "kernelspec": {
   "display_name": "Python 3",
   "language": "python",
   "name": "python3"
  },
  "language_info": {
   "codemirror_mode": {
    "name": "ipython",
    "version": 2
   },
   "file_extension": ".py",
   "mimetype": "text/x-python",
   "name": "python",
   "nbconvert_exporter": "python",
   "pygments_lexer": "ipython2",
   "version": "2.7.6"
  }
 },
 "nbformat": 4,
 "nbformat_minor": 0
}
